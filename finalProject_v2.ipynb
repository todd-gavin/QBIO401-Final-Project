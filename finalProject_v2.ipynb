{
 "cells": [
  {
   "cell_type": "markdown",
   "metadata": {},
   "source": [
    "- For my final project, I will be analyzing how the number of certain cancer-risk SNPs correlate with specific ethnic groups.\n",
    "- My specific research question is as followed: `Are the genotypic frequencies of cancer-risk SNPs different in certain ethnic groups compared to others?`"
   ]
  },
  {
   "cell_type": "markdown",
   "metadata": {},
   "source": [
    "\n",
    "My analysis is follows:\n",
    "- For each ethnic group, I will calculate the frequency of homozygous recessive (0|0),\n",
    "homozygous dominate (1|1), and heterozygous (0|1, 1|0) for the cancer-risk SNPs.\n",
    "- Once the frequency and percentages are calculated for each group, I will perform a\n",
    "statistical test to determine if the differences in SNPs frequency between ethnic groups\n",
    "statistically significant.\n",
    "- If there is time, based on the genotypic frequencies, I will calculate if certain ethnic\n",
    "groups are at a greater risk to developing certain cancers compared to other groups."
   ]
  },
  {
   "cell_type": "code",
   "execution_count": 1,
   "metadata": {},
   "outputs": [],
   "source": [
    "import csv"
   ]
  },
  {
   "cell_type": "markdown",
   "metadata": {},
   "source": [
    "# Get Human IDs to Gene Frequencies"
   ]
  },
  {
   "cell_type": "code",
   "execution_count": 2,
   "metadata": {},
   "outputs": [],
   "source": [
    "def getGeneData_and_HumanIDs(data_File):\n",
    "    # Open the CSV file with the open() function\n",
    "    # This returns a file object that you can use to read the file\n",
    "    with open(data_File) as csvfile:\n",
    "        # Use the csv.reader() function to read the file\n",
    "        # This returns an iterable object that you can loop over\n",
    "        data = csv.reader(csvfile)\n",
    "\n",
    "        rawRowDataAsList = []\n",
    "\n",
    "        # Loop over the rows in the file\n",
    "        for row in data:\n",
    "            rawRowDataAsList.append(row)\n",
    "\n",
    "        # GENE DATA\n",
    "        rawParsedGeneData = rawRowDataAsList[20][0].split(\"\\t\")\n",
    "        geneData = rawParsedGeneData[9: len(rawParsedGeneData)-1]\n",
    "\n",
    "        # HUMAN IDs \n",
    "        rawHumanIDs = rawRowDataAsList[19][0].split(\"\\t\")\n",
    "        # print(\"rawHumanIDsParsed\\n\",rawHumanIDsParsed)\n",
    "\n",
    "        humanIDs = rawHumanIDs[9: len(rawHumanIDs)-1]\n",
    "        # print(\"humanIDs\\n\", humanIDs)\n",
    "        # print(len(humanIDs))\n",
    "\n",
    "    return (humanIDs, geneData)\n",
    "\n"
   ]
  },
  {
   "cell_type": "code",
   "execution_count": 3,
   "metadata": {},
   "outputs": [],
   "source": [
    "humanIDs, geneData = getGeneData_and_HumanIDs('rawData/rs4713266.csv')"
   ]
  },
  {
   "cell_type": "code",
   "execution_count": 4,
   "metadata": {},
   "outputs": [],
   "source": [
    "def get_humanID_to_genotype(humanIDs, geneData):\n",
    "    humanID_to_genotype = {}\n",
    "    \n",
    "    for i in range(0, len(geneData)):\n",
    "\n",
    "        if geneData[i] == \"0|0\":\n",
    "            humanID_to_genotype[humanIDs[i]] = 0\n",
    "        elif geneData[i] == \"1|0\" or geneData[i] == \"0|1\":\n",
    "            humanID_to_genotype[humanIDs[i]] = 1\n",
    "        elif geneData[i] == \"1|1\":\n",
    "            humanID_to_genotype[humanIDs[i]] = 2\n",
    "\n",
    "    return humanID_to_genotype\n"
   ]
  },
  {
   "cell_type": "code",
   "execution_count": 5,
   "metadata": {},
   "outputs": [],
   "source": [
    "humanID_to_genotype = get_humanID_to_genotype(humanIDs, geneData)\n",
    "# print(humanID_to_genotype)"
   ]
  },
  {
   "cell_type": "code",
   "execution_count": 6,
   "metadata": {},
   "outputs": [],
   "source": [
    "def get_humanID_to_PopulationCode(data_File):\n",
    "    # Open the CSV file with the open() function\n",
    "    # This returns a file object that you can use to read the file\n",
    "    with open(data_File) as csvfile:\n",
    "        # Use the csv.reader() function to read the file\n",
    "        # This returns an iterable object that you can loop over\n",
    "        data = csv.reader(csvfile)\n",
    "\n",
    "        rawRowDataAsList = []\n",
    "\n",
    "        # Loop over the rows in the file\n",
    "        for row in data:\n",
    "            rawRowDataAsList.append(row)\n",
    "\n",
    "        humanIDInfoHeader = rawRowDataAsList[0][0].split(\"\\t\")\n",
    "        # print(\"humanIDInfoHeader\\n\", humanIDInfoHeader)\n",
    "        del rawRowDataAsList[0]\n",
    "\n",
    "        humanInfoParsed = []\n",
    "\n",
    "        for rawHumanInfo in rawRowDataAsList:\n",
    "            singleHumanInfoParsed = rawHumanInfo[0].split(\"\\t\")\n",
    "            humanInfoParsed.append(singleHumanInfoParsed)\n",
    "        # print(\"humanInfoParsed\\n\", humanInfoParsed)\n",
    "\n",
    "        humanID_to_PopulationCode = {}\n",
    "\n",
    "        for humanInfo in humanInfoParsed:\n",
    "            humanID = humanInfo[0]\n",
    "            populationCode = humanInfo[3]\n",
    "            # humanID_and_PopulationCode.append([humanID, populationCode])\n",
    "            humanID_to_PopulationCode[humanID] = populationCode\n",
    "\n",
    "        # print(\"humanID_and_PopulationCode\\n\", humanID_to_PopulationCode)\n",
    "\n",
    "    return humanID_to_PopulationCode\n",
    "\n"
   ]
  },
  {
   "cell_type": "code",
   "execution_count": 7,
   "metadata": {},
   "outputs": [],
   "source": [
    "humanID_to_PopulationCode = get_humanID_to_PopulationCode('rawData/igsr_samples.tsv')\n",
    "# print(humanID_to_PopulationCode)"
   ]
  },
  {
   "cell_type": "markdown",
   "metadata": {},
   "source": [
    "# Merge Population Codes with Gene Frequencies at Corresponding Human IDs"
   ]
  },
  {
   "cell_type": "code",
   "execution_count": 8,
   "metadata": {},
   "outputs": [],
   "source": [
    "def get_humanID_to_PopCode_Genotype(humanID_to_genotype, humanID_to_PopulationCode):\n",
    "\n",
    "    humanID_to_PopCode_Genotype = {}\n",
    "\n",
    "    for key in humanID_to_genotype.keys():\n",
    "        # print(\"Ran outerloop...\", key)\n",
    "        if key in humanID_to_PopulationCode.keys():\n",
    "            # print(\"Ran innerloop...\", key)\n",
    "            # print(humanID_to_PopulationCode.get(key), humanID_to_geneFrequency.get(key))\n",
    "            humanID_to_PopCode_Genotype[key] = [humanID_to_PopulationCode.get(key), humanID_to_genotype.get(key)]\n",
    "\n",
    "    # print(\"populationCode_to_geneFrequency\\n\", populationCode_to_geneFrequency)\n",
    "\n",
    "    return humanID_to_PopCode_Genotype"
   ]
  },
  {
   "cell_type": "code",
   "execution_count": 9,
   "metadata": {},
   "outputs": [
    {
     "name": "stdout",
     "output_type": "stream",
     "text": [
      "{'HG00096': ['GBR', 0], 'HG00097': ['GBR', 1], 'HG00099': ['GBR', 0], 'HG00100': ['GBR', 1], 'HG00101': ['GBR', 2], 'HG00102': ['GBR', 0], 'HG00103': ['GBR', 2], 'HG00104': ['GBR', 1], 'HG00105': ['GBR', 1], 'HG00106': ['GBR', 1], 'HG00107': ['GBR', 1], 'HG00108': ['GBR', 2], 'HG00109': ['GBR', 2], 'HG00110': ['GBR', 2], 'HG00111': ['GBR', 2], 'HG00112': ['GBR', 1], 'HG00113': ['GBR', 1], 'HG00114': ['GBR', 1], 'HG00115': ['GBR', 0], 'HG00116': ['GBR', 1], 'HG00117': ['GBR', 1], 'HG00118': ['GBR', 1], 'HG00119': ['GBR', 1], 'HG00120': ['GBR', 1], 'HG00121': ['GBR', 1], 'HG00122': ['GBR', 1], 'HG00123': ['GBR', 1], 'HG00125': ['GBR', 0], 'HG00126': ['GBR', 0], 'HG00127': ['GBR', 1], 'HG00128': ['GBR', 2], 'HG00129': ['GBR', 1], 'HG00130': ['GBR', 0], 'HG00131': ['GBR', 2], 'HG00132': ['GBR', 1], 'HG00133': ['GBR', 0], 'HG00134': ['GBR', 1], 'HG00135': ['GBR', 1], 'HG00136': ['GBR', 1], 'HG00137': ['GBR', 0], 'HG00138': ['GBR', 2], 'HG00139': ['GBR', 1], 'HG00140': ['GBR', 1], 'HG00141': ['GBR', 2], 'HG00142': ['GBR', 1], 'HG00143': ['GBR', 2], 'HG00145': ['GBR', 1], 'HG00146': ['GBR', 0], 'HG00148': ['GBR', 2], 'HG00149': ['GBR', 1], 'HG00150': ['GBR', 1], 'HG00151': ['GBR', 2], 'HG00152': ['GBR', 1], 'HG00154': ['GBR', 2], 'HG00155': ['GBR', 2], 'HG00156': ['GBR', 1], 'HG00157': ['GBR', 1], 'HG00158': ['GBR', 1], 'HG00159': ['GBR', 0], 'HG00160': ['GBR', 2], 'HG00171': ['FIN', 2], 'HG00173': ['FIN', 0], 'HG00174': ['FIN', 1], 'HG00176': ['FIN', 2], 'HG00177': ['FIN', 1], 'HG00178': ['FIN', 2], 'HG00179': ['FIN', 2], 'HG00180': ['FIN', 1], 'HG00181': ['FIN', 2], 'HG00182': ['FIN', 0], 'HG00183': ['FIN', 2], 'HG00185': ['FIN', 1], 'HG00186': ['FIN', 0], 'HG00187': ['FIN', 0], 'HG00188': ['FIN', 1], 'HG00189': ['FIN', 0], 'HG00190': ['FIN', 1], 'HG00231': ['GBR', 2], 'HG00232': ['GBR', 0], 'HG00233': ['GBR', 1], 'HG00234': ['GBR', 1], 'HG00235': ['GBR', 1], 'HG00236': ['GBR', 1], 'HG00237': ['GBR', 0], 'HG00238': ['GBR', 0], 'HG00239': ['GBR', 0], 'HG00240': ['GBR', 1], 'HG00242': ['GBR', 1], 'HG00243': ['GBR', 1], 'HG00244': ['GBR', 1], 'HG00245': ['GBR', 0], 'HG00246': ['GBR', 1], 'HG00249': ['GBR', 0], 'HG00250': ['GBR', 1], 'HG00251': ['GBR', 1], 'HG00252': ['GBR', 0], 'HG00253': ['GBR', 1], 'HG00254': ['GBR', 1], 'HG00255': ['GBR', 2], 'HG00256': ['GBR', 1], 'HG00257': ['GBR', 0], 'HG00258': ['GBR', 0], 'HG00259': ['GBR', 0], 'HG00260': ['GBR', 0], 'HG00261': ['GBR', 0], 'HG00262': ['GBR', 2], 'HG00263': ['GBR', 0], 'HG00264': ['GBR', 0], 'HG00265': ['GBR', 1], 'HG00266': ['FIN', 1], 'HG00267': ['FIN', 1], 'HG00268': ['FIN', 0], 'HG00269': ['FIN', 2], 'HG00270': ['FIN', 1], 'HG00271': ['FIN', 1], 'HG00272': ['FIN', 2], 'HG00273': ['FIN', 1], 'HG00274': ['FIN', 0], 'HG00275': ['FIN', 0], 'HG00276': ['FIN', 1], 'HG00277': ['FIN', 0], 'HG00278': ['FIN', 1], 'HG00280': ['FIN', 0], 'HG00281': ['FIN', 0], 'HG00282': ['FIN', 0], 'HG00284': ['FIN', 1], 'HG00285': ['FIN', 0], 'HG00288': ['FIN', 0], 'HG00290': ['FIN', 0], 'HG00302': ['FIN', 1], 'HG00303': ['FIN', 1], 'HG00304': ['FIN', 0], 'HG00306': ['FIN', 1], 'HG00308': ['FIN', 0], 'HG00309': ['FIN', 1], 'HG00310': ['FIN', 2], 'HG00311': ['FIN', 0], 'HG00312': ['FIN', 2], 'HG00313': ['FIN', 0], 'HG00315': ['FIN', 2], 'HG00318': ['FIN', 2], 'HG00319': ['FIN', 1], 'HG00320': ['FIN', 2], 'HG00321': ['FIN', 1], 'HG00323': ['FIN', 0], 'HG00324': ['FIN', 1], 'HG00325': ['FIN', 1], 'HG00326': ['FIN', 1], 'HG00327': ['FIN', 0], 'HG00328': ['FIN', 1], 'HG00329': ['FIN', 0], 'HG00330': ['FIN', 0], 'HG00331': ['FIN', 1], 'HG00332': ['FIN', 0], 'HG00334': ['FIN', 1], 'HG00335': ['FIN', 1], 'HG00336': ['FIN', 1], 'HG00337': ['FIN', 1], 'HG00338': ['FIN', 1], 'HG00339': ['FIN', 0], 'HG00341': ['FIN', 2], 'HG00342': ['FIN', 2], 'HG00343': ['FIN', 1], 'HG00344': ['FIN', 0], 'HG00345': ['FIN', 1], 'HG00346': ['FIN', 0], 'HG00349': ['FIN', 0], 'HG00350': ['FIN', 1], 'HG00351': ['FIN', 2], 'HG00353': ['FIN', 0], 'HG00355': ['FIN', 0], 'HG00356': ['FIN', 1], 'HG00357': ['FIN', 1], 'HG00358': ['FIN', 0], 'HG00359': ['FIN', 0], 'HG00360': ['FIN', 1], 'HG00361': ['FIN', 0], 'HG00362': ['FIN', 0], 'HG00364': ['FIN', 0], 'HG00365': ['FIN', 1], 'HG00366': ['FIN', 0], 'HG00367': ['FIN', 2], 'HG00368': ['FIN', 1], 'HG00369': ['FIN', 2], 'HG00371': ['FIN', 0], 'HG00372': ['FIN', 2], 'HG00373': ['FIN', 1], 'HG00375': ['FIN', 2], 'HG00376': ['FIN', 2], 'HG00377': ['FIN', 0], 'HG00378': ['FIN', 1], 'HG00379': ['FIN', 2], 'HG00380': ['FIN', 1], 'HG00381': ['FIN', 1], 'HG00382': ['FIN', 1], 'HG00383': ['FIN', 2], 'HG00384': ['FIN', 0], 'HG00403': ['CHS', 2], 'HG00404': ['CHS', 2], 'HG00406': ['CHS', 2], 'HG00407': ['CHS', 2], 'HG00409': ['CHS', 0], 'HG00410': ['CHS', 2], 'HG00419': ['CHS', 1], 'HG00421': ['CHS', 2], 'HG00422': ['CHS', 1], 'HG00428': ['CHS', 1], 'HG00436': ['CHS', 2], 'HG00437': ['CHS', 2], 'HG00442': ['CHS', 2], 'HG00443': ['CHS', 0], 'HG00445': ['CHS', 2], 'HG00446': ['CHS', 2], 'HG00448': ['CHS', 1], 'HG00449': ['CHS', 0], 'HG00451': ['CHS', 1], 'HG00452': ['CHS', 1], 'HG00457': ['CHS', 2], 'HG00458': ['CHS', 2], 'HG00463': ['CHS', 2], 'HG00464': ['CHS', 2], 'HG00472': ['CHS', 0], 'HG00473': ['CHS', 1], 'HG00475': ['CHS', 2], 'HG00476': ['CHS', 1], 'HG00478': ['CHS', 0], 'HG00479': ['CHS', 2], 'HG00500': ['CHS', 1], 'HG00513': ['CHS', 1], 'HG00524': ['CHS', 1], 'HG00525': ['CHS', 2], 'HG00530': ['CHS', 1], 'HG00531': ['CHS', 2], 'HG00533': ['CHS', 2], 'HG00534': ['CHS', 2], 'HG00536': ['CHS', 2], 'HG00537': ['CHS', 2], 'HG00542': ['CHS', 1], 'HG00543': ['CHS', 1], 'HG00551': ['PUR', 0], 'HG00553': ['PUR', 1], 'HG00554': ['PUR', 2], 'HG00556': ['CHS', 1], 'HG00557': ['CHS', 1], 'HG00559': ['CHS', 2], 'HG00560': ['CHS', 2], 'HG00565': ['CHS', 2], 'HG00566': ['CHS', 2], 'HG00580': ['CHS', 2], 'HG00581': ['CHS', 2], 'HG00583': ['CHS', 1], 'HG00584': ['CHS', 2], 'HG00589': ['CHS', 1], 'HG00590': ['CHS', 2], 'HG00592': ['CHS', 2], 'HG00593': ['CHS', 2], 'HG00595': ['CHS', 2], 'HG00596': ['CHS', 2], 'HG00598': ['CHS', 0], 'HG00599': ['CHS', 1], 'HG00607': ['CHS', 2], 'HG00608': ['CHS', 1], 'HG00610': ['CHS', 2], 'HG00611': ['CHS', 2], 'HG00613': ['CHS', 2], 'HG00614': ['CHS', 1], 'HG00619': ['CHS', 1], 'HG00620': ['CHS', 1], 'HG00622': ['CHS', 2], 'HG00623': ['CHS', 2], 'HG00625': ['CHS', 1], 'HG00626': ['CHS', 2], 'HG00628': ['CHS', 2], 'HG00629': ['CHS', 2], 'HG00631': ['CHS', 2], 'HG00632': ['CHS', 1], 'HG00634': ['CHS', 2], 'HG00637': ['PUR', 2], 'HG00638': ['PUR', 1], 'HG00640': ['PUR', 2], 'HG00641': ['PUR', 1], 'HG00650': ['CHS', 2], 'HG00651': ['CHS', 2], 'HG00653': ['CHS', 2], 'HG00654': ['CHS', 1], 'HG00656': ['CHS', 1], 'HG00657': ['CHS', 2], 'HG00662': ['CHS', 1], 'HG00663': ['CHS', 1], 'HG00671': ['CHS', 1], 'HG00672': ['CHS', 2], 'HG00674': ['CHS', 2], 'HG00675': ['CHS', 2], 'HG00683': ['CHS', 1], 'HG00684': ['CHS', 2], 'HG00689': ['CHS', 2], 'HG00690': ['CHS', 2], 'HG00692': ['CHS', 2], 'HG00693': ['CHS', 2], 'HG00698': ['CHS', 2], 'HG00699': ['CHS', 2], 'HG00701': ['CHS', 1], 'HG00704': ['CHS', 2], 'HG00705': ['CHS', 2], 'HG00707': ['CHS', 1], 'HG00708': ['CHS', 2], 'HG00717': ['CHS', 2], 'HG00728': ['CHS', 2], 'HG00729': ['CHS', 1], 'HG00731': ['PUR', 1], 'HG00732': ['PUR', 1], 'HG00734': ['PUR', 1], 'HG00736': ['PUR', 0], 'HG00737': ['PUR', 2], 'HG00739': ['PUR', 2], 'HG00740': ['PUR', 2], 'HG00742': ['PUR', 1], 'HG00743': ['PUR', 1], 'HG00759': ['CDX', 1], 'HG00766': ['CDX', 2], 'HG00844': ['CDX', 2], 'HG00851': ['CDX', 1], 'HG00864': ['CDX', 2], 'HG00867': ['CDX', 2], 'HG00879': ['CDX', 1], 'HG00881': ['CDX', 1], 'HG00956': ['CDX', 1], 'HG00978': ['CDX', 1], 'HG00982': ['CDX', 1], 'HG01028': ['CDX', 2], 'HG01029': ['CDX', 2], 'HG01031': ['CDX', 2], 'HG01046': ['CDX', 1], 'HG01047': ['PUR', 1], 'HG01048': ['PUR', 1], 'HG01049': ['PUR', 1], 'HG01051': ['PUR', 1], 'HG01052': ['PUR', 2], 'HG01054': ['PUR', 1], 'HG01055': ['PUR', 2], 'HG01058': ['PUR', 0], 'HG01060': ['PUR', 1], 'HG01061': ['PUR', 0], 'HG01063': ['PUR', 1], 'HG01064': ['PUR', 1], 'HG01066': ['PUR', 1], 'HG01067': ['PUR', 2], 'HG01069': ['PUR', 1], 'HG01070': ['PUR', 1], 'HG01072': ['PUR', 1], 'HG01073': ['PUR', 1], 'HG01075': ['PUR', 1], 'HG01077': ['PUR', 2], 'HG01079': ['PUR', 2], 'HG01080': ['PUR', 1], 'HG01082': ['PUR', 1], 'HG01083': ['PUR', 0], 'HG01085': ['PUR', 0], 'HG01086': ['PUR', 2], 'HG01088': ['PUR', 1], 'HG01089': ['PUR', 0], 'HG01092': ['PUR', 0], 'HG01094': ['PUR', 2], 'HG01095': ['PUR', 1], 'HG01097': ['PUR', 1], 'HG01098': ['PUR', 0], 'HG01101': ['PUR', 1], 'HG01102': ['PUR', 1], 'HG01104': ['PUR', 1], 'HG01105': ['PUR', 1], 'HG01107': ['PUR', 2], 'HG01108': ['PUR', 0], 'HG01110': ['PUR', 2], 'HG01111': ['PUR', 1], 'HG01112': ['CLM', 0], 'HG01113': ['CLM', 1], 'HG01119': ['CLM', 1], 'HG01121': ['CLM', 2], 'HG01122': ['CLM', 1], 'HG01124': ['CLM', 1], 'HG01125': ['CLM', 1], 'HG01130': ['CLM', 0], 'HG01131': ['CLM', 1], 'HG01133': ['CLM', 1], 'HG01134': ['CLM', 1], 'HG01136': ['CLM', 2], 'HG01137': ['CLM', 2], 'HG01139': ['CLM', 2], 'HG01140': ['CLM', 2], 'HG01142': ['CLM', 1], 'HG01148': ['CLM', 0], 'HG01149': ['CLM', 2], 'HG01161': ['PUR', 2], 'HG01162': ['PUR', 2], 'HG01164': ['PUR', 0], 'HG01167': ['PUR', 0], 'HG01168': ['PUR', 1], 'HG01170': ['PUR', 1], 'HG01171': ['PUR', 1], 'HG01173': ['PUR', 1], 'HG01174': ['PUR', 2], 'HG01176': ['PUR', 1], 'HG01177': ['PUR', 1], 'HG01182': ['PUR', 1], 'HG01183': ['PUR', 0], 'HG01187': ['PUR', 1], 'HG01188': ['PUR', 2], 'HG01190': ['PUR', 2], 'HG01191': ['PUR', 1], 'HG01197': ['PUR', 0], 'HG01198': ['PUR', 2], 'HG01200': ['PUR', 1], 'HG01204': ['PUR', 1], 'HG01205': ['PUR', 1], 'HG01241': ['PUR', 0], 'HG01242': ['PUR', 1], 'HG01247': ['PUR', 0], 'HG01248': ['PUR', 0], 'HG01250': ['CLM', 2], 'HG01251': ['CLM', 0], 'HG01253': ['CLM', 1], 'HG01254': ['CLM', 0], 'HG01256': ['CLM', 0], 'HG01257': ['CLM', 2], 'HG01259': ['CLM', 1], 'HG01260': ['CLM', 1], 'HG01269': ['CLM', 0], 'HG01271': ['CLM', 1], 'HG01272': ['CLM', 1], 'HG01275': ['CLM', 2], 'HG01277': ['CLM', 1], 'HG01280': ['CLM', 2], 'HG01281': ['CLM', 1], 'HG01284': ['CLM', 1], 'HG01286': ['PUR', 1], 'HG01302': ['PUR', 1], 'HG01303': ['PUR', 1], 'HG01305': ['PUR', 1], 'HG01308': ['PUR', 1], 'HG01311': ['PUR', 2], 'HG01312': ['PUR', 1], 'HG01323': ['PUR', 1], 'HG01325': ['PUR', 0], 'HG01326': ['PUR', 1], 'HG01334': ['GBR', 0], 'HG01341': ['CLM', 1], 'HG01342': ['CLM', 2], 'HG01344': ['CLM', 1], 'HG01345': ['CLM', 2], 'HG01348': ['CLM', 1], 'HG01350': ['CLM', 2], 'HG01351': ['CLM', 1], 'HG01353': ['CLM', 0], 'HG01354': ['CLM', 1], 'HG01356': ['CLM', 1], 'HG01357': ['CLM', 1], 'HG01359': ['CLM', 1], 'HG01360': ['CLM', 2], 'HG01362': ['CLM', 1], 'HG01363': ['CLM', 1], 'HG01365': ['CLM', 0], 'HG01366': ['CLM', 0], 'HG01369': ['CLM', 2], 'HG01372': ['CLM', 1], 'HG01374': ['CLM', 2], 'HG01375': ['CLM', 1], 'HG01377': ['CLM', 0], 'HG01378': ['CLM', 0], 'HG01383': ['CLM', 1], 'HG01384': ['CLM', 0], 'HG01389': ['CLM', 0], 'HG01390': ['CLM', 1], 'HG01392': ['PUR', 1], 'HG01393': ['PUR', 1], 'HG01395': ['PUR', 2], 'HG01396': ['PUR', 0], 'HG01398': ['PUR', 0], 'HG01402': ['PUR', 1], 'HG01403': ['PUR', 1], 'HG01405': ['PUR', 0], 'HG01412': ['PUR', 1], 'HG01413': ['PUR', 1], 'HG01414': ['PUR', 1], 'HG01431': ['CLM', 2], 'HG01432': ['CLM', 1], 'HG01435': ['CLM', 1], 'HG01437': ['CLM', 1], 'HG01438': ['CLM', 0], 'HG01440': ['CLM', 1], 'HG01441': ['CLM', 0], 'HG01443': ['CLM', 1], 'HG01444': ['CLM', 0], 'HG01447': ['CLM', 1], 'HG01455': ['CLM', 1], 'HG01456': ['CLM', 2], 'HG01459': ['CLM', 1], 'HG01461': ['CLM', 2], 'HG01462': ['CLM', 1], 'HG01464': ['CLM', 1], 'HG01465': ['CLM', 2], 'HG01468': ['CLM', 0], 'HG01471': ['CLM', 1], 'HG01474': ['CLM', 2], 'HG01479': ['CLM', 1], 'HG01485': ['CLM', 1], 'HG01486': ['CLM', 2], 'HG01488': ['CLM', 2], 'HG01489': ['CLM', 2], 'HG01491': ['CLM', 2], 'HG01492': ['CLM', 1], 'HG01494': ['CLM', 1], 'HG01495': ['CLM', 1], 'HG01497': ['CLM', 1], 'HG01498': ['CLM', 1], 'HG01500': ['IBS', 1], 'HG01501': ['IBS', 0], 'HG01503': ['IBS', 0], 'HG01504': ['IBS', 2], 'HG01506': ['IBS', 1], 'HG01507': ['IBS', 1], 'HG01509': ['IBS', 2], 'HG01510': ['IBS', 0], 'HG01512': ['IBS', 0], 'HG01513': ['IBS', 1], 'HG01515': ['IBS', 1], 'HG01516': ['IBS', 1], 'HG01518': ['IBS', 1], 'HG01519': ['IBS', 0], 'HG01521': ['IBS', 0], 'HG01522': ['IBS', 2], 'HG01524': ['IBS', 1], 'HG01525': ['IBS', 1], 'HG01527': ['IBS', 2], 'HG01528': ['IBS', 1], 'HG01530': ['IBS', 1], 'HG01531': ['IBS', 0], 'HG01536': ['IBS', 1], 'HG01537': ['IBS', 1], 'HG01550': ['CLM', 0], 'HG01551': ['CLM', 2], 'HG01556': ['CLM', 1], 'HG01565': ['PEL', 2], 'HG01566': ['PEL', 2], 'HG01571': ['PEL', 2], 'HG01572': ['PEL', 1], 'HG01577': ['PEL', 1], 'HG01578': ['PEL', 0], 'HG01583': ['PJL', 2], 'HG01586': ['PJL', 1], 'HG01589': ['PJL', 1], 'HG01593': ['PJL', 1], 'HG01595': ['KHV', 2], 'HG01596': ['KHV', 2], 'HG01597': ['KHV', 2], 'HG01598': ['KHV', 2], 'HG01599': ['KHV', 2], 'HG01600': ['KHV', 0], 'HG01602': ['IBS', 0], 'HG01603': ['IBS', 2], 'HG01605': ['IBS', 2], 'HG01606': ['IBS', 2], 'HG01607': ['IBS', 0], 'HG01608': ['IBS', 1], 'HG01610': ['IBS', 1], 'HG01612': ['IBS', 1], 'HG01613': ['IBS', 0], 'HG01615': ['IBS', 0], 'HG01617': ['IBS', 1], 'HG01618': ['IBS', 2], 'HG01619': ['IBS', 0], 'HG01620': ['IBS', 2], 'HG01623': ['IBS', 1], 'HG01624': ['IBS', 1], 'HG01625': ['IBS', 1], 'HG01626': ['IBS', 1], 'HG01628': ['IBS', 2], 'HG01630': ['IBS', 1], 'HG01631': ['IBS', 1], 'HG01632': ['IBS', 1], 'HG01668': ['IBS', 1], 'HG01669': ['IBS', 2], 'HG01670': ['IBS', 1], 'HG01672': ['IBS', 1], 'HG01673': ['IBS', 2], 'HG01675': ['IBS', 1], 'HG01676': ['IBS', 1], 'HG01678': ['IBS', 0], 'HG01679': ['IBS', 0], 'HG01680': ['IBS', 2], 'HG01682': ['IBS', 0], 'HG01684': ['IBS', 0], 'HG01685': ['IBS', 0], 'HG01686': ['IBS', 1], 'HG01694': ['IBS', 2], 'HG01695': ['IBS', 1], 'HG01697': ['IBS', 2], 'HG01699': ['IBS', 2], 'HG01700': ['IBS', 0], 'HG01702': ['IBS', 1], 'HG01704': ['IBS', 0], 'HG01705': ['IBS', 1], 'HG01707': ['IBS', 2], 'HG01708': ['IBS', 1], 'HG01709': ['IBS', 1], 'HG01710': ['IBS', 1], 'HG01746': ['IBS', 2], 'HG01747': ['IBS', 0], 'HG01756': ['IBS', 0], 'HG01757': ['IBS', 1], 'HG01761': ['IBS', 0], 'HG01762': ['IBS', 1], 'HG01765': ['IBS', 2], 'HG01766': ['IBS', 1], 'HG01767': ['IBS', 1], 'HG01768': ['IBS', 1], 'HG01770': ['IBS', 1], 'HG01771': ['IBS', 1], 'HG01773': ['IBS', 1], 'HG01775': ['IBS', 1], 'HG01776': ['IBS', 0], 'HG01777': ['IBS', 2], 'HG01779': ['IBS', 1], 'HG01781': ['IBS', 1], 'HG01783': ['IBS', 2], 'HG01784': ['IBS', 2], 'HG01785': ['IBS', 1], 'HG01786': ['IBS', 1], 'HG01789': ['GBR', 2], 'HG01790': ['GBR', 0], 'HG01791': ['GBR', 1], 'HG01794': ['CDX', 2], 'HG01795': ['CDX', 0], 'HG01796': ['CDX', 1], 'HG01797': ['CDX', 1], 'HG01798': ['CDX', 2], 'HG01799': ['CDX', 1], 'HG01800': ['CDX', 1], 'HG01801': ['CDX', 2], 'HG01802': ['CDX', 1], 'HG01804': ['CDX', 2], 'HG01805': ['CDX', 1], 'HG01806': ['CDX', 2], 'HG01807': ['CDX', 2], 'HG01808': ['CDX', 1], 'HG01809': ['CDX', 1], 'HG01810': ['CDX', 2], 'HG01811': ['CDX', 2], 'HG01812': ['CDX', 1], 'HG01813': ['CDX', 1], 'HG01815': ['CDX', 0], 'HG01816': ['CDX', 2], 'HG01817': ['CDX', 2], 'HG01840': ['KHV', 1], 'HG01841': ['KHV', 2], 'HG01842': ['KHV', 2], 'HG01843': ['KHV', 2], 'HG01844': ['KHV', 1], 'HG01845': ['KHV', 1], 'HG01846': ['KHV', 2], 'HG01847': ['KHV', 2], 'HG01848': ['KHV', 2], 'HG01849': ['KHV', 1], 'HG01850': ['KHV', 0], 'HG01851': ['KHV', 2], 'HG01852': ['KHV', 1], 'HG01853': ['KHV', 1], 'HG01855': ['KHV', 1], 'HG01857': ['KHV', 0], 'HG01858': ['KHV', 2], 'HG01859': ['KHV', 1], 'HG01860': ['KHV', 1], 'HG01861': ['KHV', 2], 'HG01862': ['KHV', 0], 'HG01863': ['KHV', 1], 'HG01864': ['KHV', 2], 'HG01865': ['KHV', 1], 'HG01866': ['KHV', 1], 'HG01867': ['KHV', 2], 'HG01868': ['KHV', 1], 'HG01869': ['KHV', 1], 'HG01870': ['KHV', 0], 'HG01871': ['KHV', 1], 'HG01872': ['KHV', 2], 'HG01873': ['KHV', 1], 'HG01874': ['KHV', 1], 'HG01878': ['KHV', 1], 'HG01879': ['ACB', 0], 'HG01880': ['ACB', 1], 'HG01882': ['ACB', 0], 'HG01883': ['ACB', 0], 'HG01885': ['ACB', 0], 'HG01886': ['ACB', 0], 'HG01889': ['ACB', 0], 'HG01890': ['ACB', 1], 'HG01892': ['PEL', 1], 'HG01893': ['PEL', 2], 'HG01894': ['ACB', 0], 'HG01896': ['ACB', 0], 'HG01912': ['ACB', 0], 'HG01914': ['ACB', 0], 'HG01915': ['ACB', 0], 'HG01917': ['PEL', 1], 'HG01918': ['PEL', 1], 'HG01920': ['PEL', 2], 'HG01921': ['PEL', 0], 'HG01923': ['PEL', 1], 'HG01924': ['PEL', 2], 'HG01926': ['PEL', 1], 'HG01927': ['PEL', 2], 'HG01932': ['PEL', 2], 'HG01933': ['PEL', 1], 'HG01935': ['PEL', 2], 'HG01936': ['PEL', 1], 'HG01938': ['PEL', 2], 'HG01939': ['PEL', 2], 'HG01941': ['PEL', 1], 'HG01942': ['PEL', 2], 'HG01944': ['PEL', 0], 'HG01945': ['PEL', 0], 'HG01947': ['PEL', 2], 'HG01948': ['PEL', 1], 'HG01950': ['PEL', 2], 'HG01951': ['PEL', 2], 'HG01953': ['PEL', 2], 'HG01954': ['PEL', 1], 'HG01956': ['ACB', 1], 'HG01958': ['ACB', 1], 'HG01961': ['PEL', 1], 'HG01965': ['PEL', 2], 'HG01967': ['PEL', 2], 'HG01968': ['PEL', 2], 'HG01970': ['PEL', 2], 'HG01971': ['PEL', 1], 'HG01973': ['PEL', 0], 'HG01974': ['PEL', 2], 'HG01976': ['PEL', 1], 'HG01977': ['PEL', 0], 'HG01979': ['PEL', 1], 'HG01980': ['PEL', 1], 'HG01982': ['PEL', 2], 'HG01985': ['ACB', 0], 'HG01986': ['ACB', 1], 'HG01988': ['ACB', 0], 'HG01989': ['ACB', 0], 'HG01990': ['ACB', 0], 'HG01991': ['PEL', 2], 'HG01992': ['PEL', 2], 'HG01997': ['PEL', 2], 'HG02002': ['PEL', 2], 'HG02003': ['PEL', 1], 'HG02006': ['PEL', 1], 'HG02008': ['PEL', 2], 'HG02009': ['ACB', 1], 'HG02010': ['ACB', 1], 'HG02012': ['ACB', 1], 'HG02013': ['ACB', 1], 'HG02014': ['ACB', 1], 'HG02016': ['KHV', 2], 'HG02017': ['KHV', 2], 'HG02019': ['KHV', 1], 'HG02020': ['KHV', 2], 'HG02023': ['KHV', 2], 'HG02025': ['KHV', 2], 'HG02026': ['KHV', 2], 'HG02028': ['KHV', 2], 'HG02029': ['KHV', 2], 'HG02031': ['KHV', 2], 'HG02032': ['KHV', 2], 'HG02035': ['KHV', 1], 'HG02040': ['KHV', 2], 'HG02047': ['KHV', 1], 'HG02048': ['KHV', 1], 'HG02049': ['KHV', 2], 'HG02050': ['KHV', 2], 'HG02051': ['ACB', 0], 'HG02052': ['ACB', 1], 'HG02053': ['ACB', 0], 'HG02054': ['ACB', 1], 'HG02057': ['KHV', 2], 'HG02058': ['KHV', 1], 'HG02060': ['KHV', 1], 'HG02061': ['KHV', 2], 'HG02064': ['KHV', 2], 'HG02067': ['KHV', 1], 'HG02069': ['KHV', 2], 'HG02070': ['KHV', 2], 'HG02072': ['KHV', 1], 'HG02073': ['KHV', 1], 'HG02075': ['KHV', 2], 'HG02076': ['KHV', 2], 'HG02078': ['KHV', 1], 'HG02079': ['KHV', 2], 'HG02081': ['KHV', 2], 'HG02082': ['KHV', 2], 'HG02084': ['KHV', 1], 'HG02085': ['KHV', 2], 'HG02086': ['KHV', 2], 'HG02087': ['KHV', 2], 'HG02088': ['KHV', 1], 'HG02089': ['PEL', 1], 'HG02090': ['PEL', 1], 'HG02095': ['ACB', 0], 'HG02102': ['PEL', 2], 'HG02104': ['PEL', 2], 'HG02105': ['PEL', 1], 'HG02107': ['ACB', 1], 'HG02108': ['ACB', 0], 'HG02111': ['ACB', 0], 'HG02113': ['KHV', 2], 'HG02116': ['KHV', 2], 'HG02121': ['KHV', 1], 'HG02122': ['KHV', 0], 'HG02127': ['KHV', 2], 'HG02128': ['KHV', 2], 'HG02130': ['KHV', 2], 'HG02131': ['KHV', 2], 'HG02133': ['KHV', 2], 'HG02134': ['KHV', 2], 'HG02136': ['KHV', 2], 'HG02137': ['KHV', 2], 'HG02138': ['KHV', 2], 'HG02139': ['KHV', 1], 'HG02140': ['KHV', 2], 'HG02141': ['KHV', 2], 'HG02142': ['KHV', 2], 'HG02143': ['ACB', 1], 'HG02144': ['ACB', 2], 'HG02146': ['PEL', 2], 'HG02147': ['PEL', 2], 'HG02150': ['PEL', 1], 'HG02151': ['CDX', 1], 'HG02152': ['CDX', 1], 'HG02153': ['CDX', 2], 'HG02154': ['CDX', 0], 'HG02155': ['CDX', 2], 'HG02156': ['CDX', 1], 'HG02164': ['CDX', 2], 'HG02165': ['CDX', 2], 'HG02166': ['CDX', 1], 'HG02168': ['CDX', 2], 'HG02169': ['CDX', 1], 'HG02170': ['CDX', 1], 'HG02173': ['CDX', 1], 'HG02176': ['CDX', 1], 'HG02178': ['CDX', 1], 'HG02179': ['CDX', 0], 'HG02180': ['CDX', 2], 'HG02181': ['CDX', 1], 'HG02182': ['CDX', 0], 'HG02184': ['CDX', 2], 'HG02185': ['CDX', 1], 'HG02186': ['CDX', 1], 'HG02187': ['CDX', 2], 'HG02188': ['CDX', 0], 'HG02190': ['CDX', 1], 'HG02215': ['GBR', 1], 'HG02219': ['IBS', 1], 'HG02220': ['IBS', 1], 'HG02221': ['IBS', 1], 'HG02223': ['IBS', 2], 'HG02224': ['IBS', 0], 'HG02230': ['IBS', 1], 'HG02231': ['IBS', 2], 'HG02232': ['IBS', 0], 'HG02233': ['IBS', 0], 'HG02235': ['IBS', 1], 'HG02236': ['IBS', 1], 'HG02238': ['IBS', 0], 'HG02239': ['IBS', 2], 'HG02250': ['CDX', 0], 'HG02252': ['PEL', 2], 'HG02253': ['PEL', 1], 'HG02255': ['ACB', 0], 'HG02256': ['ACB', 1], 'HG02259': ['PEL', 1], 'HG02260': ['PEL', 1], 'HG02262': ['PEL', 1], 'HG02265': ['PEL', 1], 'HG02266': ['PEL', 2], 'HG02271': ['PEL', 0], 'HG02272': ['PEL', 2], 'HG02274': ['PEL', 1], 'HG02275': ['PEL', 2], 'HG02277': ['PEL', 1], 'HG02278': ['PEL', 2], 'HG02281': ['ACB', 0], 'HG02282': ['ACB', 1], 'HG02283': ['ACB', 1], 'HG02284': ['ACB', 0], 'HG02285': ['PEL', 1], 'HG02286': ['PEL', 2], 'HG02291': ['PEL', 2], 'HG02292': ['PEL', 1], 'HG02298': ['PEL', 1], 'HG02299': ['PEL', 1], 'HG02301': ['PEL', 2], 'HG02304': ['PEL', 2], 'HG02307': ['ACB', 1], 'HG02308': ['ACB', 1], 'HG02309': ['ACB', 1], 'HG02312': ['PEL', 1], 'HG02314': ['ACB', 1], 'HG02315': ['ACB', 1], 'HG02317': ['ACB', 0], 'HG02318': ['ACB', 0], 'HG02322': ['ACB', 0], 'HG02323': ['ACB', 0], 'HG02325': ['ACB', 1], 'HG02330': ['ACB', 0], 'HG02332': ['ACB', 1], 'HG02334': ['ACB', 0], 'HG02337': ['ACB', 1], 'HG02339': ['ACB', 0], 'HG02343': ['ACB', 0], 'HG02345': ['PEL', 1], 'HG02348': ['PEL', 1], 'HG02351': ['CDX', 2], 'HG02353': ['CDX', 2], 'HG02355': ['CDX', 2], 'HG02356': ['CDX', 1], 'HG02358': ['CDX', 2], 'HG02360': ['CDX', 1], 'HG02364': ['CDX', 1], 'HG02367': ['CDX', 2], 'HG02371': ['CDX', 1], 'HG02373': ['CDX', 2], 'HG02374': ['CDX', 2], 'HG02375': ['CDX', 2], 'HG02379': ['CDX', 0], 'HG02380': ['CDX', 0], 'HG02382': ['CDX', 1], 'HG02383': ['CDX', 1], 'HG02384': ['CDX', 0], 'HG02385': ['CDX', 2], 'HG02386': ['CDX', 1], 'HG02389': ['CDX', 2], 'HG02390': ['CDX', 1], 'HG02391': ['CDX', 2], 'HG02392': ['CDX', 2], 'HG02394': ['CDX', 1], 'HG02395': ['CDX', 1], 'HG02396': ['CDX', 1], 'HG02397': ['CDX', 1], 'HG02398': ['CDX', 1], 'HG02399': ['CDX', 2], 'HG02401': ['CDX', 1], 'HG02402': ['CDX', 1], 'HG02405': ['CDX', 2], 'HG02406': ['CDX', 1], 'HG02407': ['CDX', 2], 'HG02408': ['CDX', 2], 'HG02409': ['CDX', 2], 'HG02410': ['CDX', 2], 'HG02419': ['ACB', 0], 'HG02420': ['ACB', 0], 'HG02425': ['PEL', 1], 'HG02427': ['ACB', 0], 'HG02429': ['ACB', 1], 'HG02433': ['ACB', 1], 'HG02436': ['ACB', 0], 'HG02439': ['ACB', 0], 'HG02442': ['ACB', 0], 'HG02445': ['ACB', 0], 'HG02449': ['ACB', 0], 'HG02450': ['ACB', 0], 'HG02455': ['ACB', 0], 'HG02461': ['GWD', 1], 'HG02462': ['GWD', 0], 'HG02464': ['GWD', 0], 'HG02465': ['GWD', 0], 'HG02470': ['ACB', 1], 'HG02471': ['ACB', 0], 'HG02476': ['ACB', 0], 'HG02477': ['ACB', 0], 'HG02479': ['ACB', 0], 'HG02481': ['ACB', 0], 'HG02484': ['ACB', 1], 'HG02485': ['ACB', 0], 'HG02489': ['ACB', 0], 'HG02490': ['PJL', 2], 'HG02491': ['PJL', 1], 'HG02493': ['PJL', 1], 'HG02494': ['PJL', 1], 'HG02496': ['ACB', 0], 'HG02497': ['ACB', 1], 'HG02501': ['ACB', 1], 'HG02502': ['ACB', 0], 'HG02505': ['ACB', 1], 'HG02508': ['ACB', 0], 'HG02511': ['ACB', 0], 'HG02512': ['KHV', 2], 'HG02513': ['KHV', 1], 'HG02521': ['KHV', 1], 'HG02522': ['KHV', 2], 'HG02536': ['ACB', 0], 'HG02537': ['ACB', 0], 'HG02541': ['ACB', 0], 'HG02545': ['ACB', 0], 'HG02546': ['ACB', 0], 'HG02549': ['ACB', 1], 'HG02554': ['ACB', 2], 'HG02555': ['ACB', 0], 'HG02557': ['ACB', 0], 'HG02558': ['ACB', 0], 'HG02561': ['GWD', 1], 'HG02562': ['GWD', 0], 'HG02568': ['GWD', 0], 'HG02570': ['GWD', 0], 'HG02571': ['GWD', 1], 'HG02573': ['GWD', 0], 'HG02574': ['GWD', 2], 'HG02577': ['ACB', 1], 'HG02580': ['ACB', 0], 'HG02582': ['GWD', 0], 'HG02583': ['GWD', 0], 'HG02585': ['GWD', 1], 'HG02586': ['GWD', 0], 'HG02588': ['GWD', 1], 'HG02589': ['GWD', 0], 'HG02594': ['GWD', 0], 'HG02595': ['GWD', 0], 'HG02597': ['PJL', 2], 'HG02600': ['PJL', 2], 'HG02601': ['PJL', 1], 'HG02603': ['PJL', 0], 'HG02604': ['PJL', 2], 'HG02610': ['GWD', 1], 'HG02611': ['GWD', 0], 'HG02613': ['GWD', 1], 'HG02614': ['GWD', 1], 'HG02620': ['GWD', 0], 'HG02621': ['GWD', 0], 'HG02623': ['GWD', 0], 'HG02624': ['GWD', 0], 'HG02628': ['GWD', 0], 'HG02629': ['GWD', 1], 'HG02634': ['GWD', 1], 'HG02635': ['GWD', 0], 'HG02642': ['GWD', 0], 'HG02643': ['GWD', 0], 'HG02645': ['GWD', 2], 'HG02646': ['GWD', 0], 'HG02648': ['PJL', 1], 'HG02649': ['PJL', 1], 'HG02651': ['PJL', 0], 'HG02652': ['PJL', 1], 'HG02654': ['PJL', 0], 'HG02655': ['PJL', 0], 'HG02657': ['PJL', 1], 'HG02658': ['PJL', 1], 'HG02660': ['PJL', 1], 'HG02661': ['PJL', 1], 'HG02666': ['GWD', 0], 'HG02667': ['GWD', 0], 'HG02675': ['GWD', 0], 'HG02676': ['GWD', 0], 'HG02678': ['GWD', 0], 'HG02679': ['GWD', 0], 'HG02681': ['PJL', 1], 'HG02682': ['PJL', 1], 'HG02684': ['PJL', 1], 'HG02685': ['PJL', 1], 'HG02687': ['PJL', 2], 'HG02688': ['PJL', 1], 'HG02690': ['PJL', 2], 'HG02691': ['PJL', 1], 'HG02694': ['PJL', 0], 'HG02696': ['PJL', 2], 'HG02697': ['PJL', 2], 'HG02699': ['PJL', 2], 'HG02700': ['PJL', 0], 'HG02702': ['GWD', 0], 'HG02703': ['GWD', 0], 'HG02715': ['GWD', 0], 'HG02716': ['GWD', 0], 'HG02721': ['GWD', 0], 'HG02722': ['GWD', 0], 'HG02724': ['PJL', 1], 'HG02725': ['PJL', 0], 'HG02727': ['PJL', 2], 'HG02728': ['PJL', 1], 'HG02731': ['PJL', 1], 'HG02733': ['PJL', 2], 'HG02734': ['PJL', 1], 'HG02736': ['PJL', 2], 'HG02737': ['PJL', 1], 'HG02756': ['GWD', 0], 'HG02757': ['GWD', 0], 'HG02759': ['GWD', 0], 'HG02760': ['GWD', 0], 'HG02763': ['GWD', 0], 'HG02768': ['GWD', 0], 'HG02769': ['GWD', 1], 'HG02771': ['GWD', 0], 'HG02772': ['GWD', 0], 'HG02774': ['PJL', 2], 'HG02775': ['PJL', 2], 'HG02778': ['PJL', 1], 'HG02780': ['PJL', 0], 'HG02783': ['PJL', 2], 'HG02784': ['PJL', 2], 'HG02786': ['PJL', 2], 'HG02787': ['PJL', 1], 'HG02789': ['PJL', 2], 'HG02790': ['PJL', 2], 'HG02792': ['PJL', 1], 'HG02793': ['PJL', 0], 'HG02798': ['GWD', 1], 'HG02799': ['GWD', 0], 'HG02804': ['GWD', 1], 'HG02805': ['GWD', 2], 'HG02807': ['GWD', 1], 'HG02808': ['GWD', 1], 'HG02810': ['GWD', 0], 'HG02811': ['GWD', 0], 'HG02813': ['GWD', 0], 'HG02814': ['GWD', 0], 'HG02816': ['GWD', 1], 'HG02817': ['GWD', 1], 'HG02819': ['GWD', 2], 'HG02820': ['GWD', 0], 'HG02836': ['GWD', 0], 'HG02837': ['GWD', 1], 'HG02839': ['GWD', 0], 'HG02840': ['GWD', 1], 'HG02851': ['GWD', 0], 'HG02852': ['GWD', 1], 'HG02854': ['GWD', 0], 'HG02855': ['GWD', 0], 'HG02860': ['GWD', 0], 'HG02861': ['GWD', 0], 'HG02870': ['GWD', 1], 'HG02878': ['GWD', 0], 'HG02879': ['GWD', 0], 'HG02881': ['GWD', 0], 'HG02882': ['GWD', 0], 'HG02884': ['GWD', 0], 'HG02885': ['GWD', 0], 'HG02887': ['GWD', 0], 'HG02888': ['GWD', 0], 'HG02890': ['GWD', 0], 'HG02891': ['GWD', 1], 'HG02895': ['GWD', 1], 'HG02896': ['GWD', 1], 'HG02922': ['ESN', 0], 'HG02923': ['ESN', 0], 'HG02938': ['ESN', 0], 'HG02941': ['ESN', 1], 'HG02943': ['ESN', 1], 'HG02944': ['ESN', 1], 'HG02946': ['ESN', 1], 'HG02947': ['ESN', 0], 'HG02952': ['ESN', 0], 'HG02953': ['ESN', 0], 'HG02968': ['ESN', 0], 'HG02970': ['ESN', 0], 'HG02971': ['ESN', 0], 'HG02973': ['ESN', 0], 'HG02974': ['ESN', 0], 'HG02976': ['ESN', 0], 'HG02977': ['ESN', 1], 'HG02979': ['ESN', 1], 'HG02981': ['ESN', 0], 'HG02982': ['GWD', 0], 'HG02983': ['GWD', 0], 'HG03006': ['BEB', 2], 'HG03007': ['BEB', 2], 'HG03009': ['BEB', 1], 'HG03012': ['BEB', 2], 'HG03015': ['PJL', 0], 'HG03016': ['PJL', 2], 'HG03018': ['PJL', 0], 'HG03019': ['PJL', 1], 'HG03021': ['PJL', 0], 'HG03022': ['PJL', 0], 'HG03024': ['GWD', 0], 'HG03025': ['GWD', 0], 'HG03027': ['GWD', 0], 'HG03028': ['GWD', 0], 'HG03039': ['GWD', 0], 'HG03040': ['GWD', 0], 'HG03045': ['GWD', 2], 'HG03046': ['GWD', 0], 'HG03048': ['GWD', 1], 'HG03049': ['GWD', 0], 'HG03052': ['MSL', 0], 'HG03054': ['MSL', 0], 'HG03055': ['MSL', 0], 'HG03057': ['MSL', 1], 'HG03058': ['MSL', 0], 'HG03060': ['MSL', 0], 'HG03061': ['MSL', 0], 'HG03063': ['MSL', 0], 'HG03064': ['MSL', 0], 'HG03066': ['MSL', 0], 'HG03069': ['MSL', 0], 'HG03072': ['MSL', 0], 'HG03073': ['MSL', 1], 'HG03074': ['MSL', 0], 'HG03077': ['MSL', 1], 'HG03078': ['MSL', 1], 'HG03079': ['MSL', 0], 'HG03081': ['MSL', 0], 'HG03082': ['MSL', 0], 'HG03084': ['MSL', 0], 'HG03085': ['MSL', 0], 'HG03086': ['MSL', 0], 'HG03088': ['MSL', 0], 'HG03091': ['MSL', 0], 'HG03095': ['MSL', 0], 'HG03096': ['MSL', 0], 'HG03097': ['MSL', 1], 'HG03099': ['ESN', 0], 'HG03100': ['ESN', 0], 'HG03103': ['ESN', 1], 'HG03105': ['ESN', 0], 'HG03108': ['ESN', 1], 'HG03109': ['ESN', 0], 'HG03111': ['ESN', 0], 'HG03112': ['ESN', 0], 'HG03114': ['ESN', 0], 'HG03115': ['ESN', 1], 'HG03117': ['ESN', 1], 'HG03118': ['ESN', 0], 'HG03120': ['ESN', 1], 'HG03121': ['ESN', 1], 'HG03123': ['ESN', 0], 'HG03124': ['ESN', 0], 'HG03126': ['ESN', 0], 'HG03127': ['ESN', 2], 'HG03129': ['ESN', 1], 'HG03130': ['ESN', 0], 'HG03132': ['ESN', 0], 'HG03133': ['ESN', 0], 'HG03135': ['ESN', 0], 'HG03136': ['ESN', 0], 'HG03139': ['ESN', 0], 'HG03157': ['ESN', 0], 'HG03159': ['ESN', 1], 'HG03160': ['ESN', 0], 'HG03162': ['ESN', 0], 'HG03163': ['ESN', 1], 'HG03166': ['ESN', 0], 'HG03168': ['ESN', 0], 'HG03169': ['ESN', 0], 'HG03171': ['ESN', 1], 'HG03172': ['ESN', 0], 'HG03175': ['ESN', 1], 'HG03189': ['ESN', 0], 'HG03190': ['ESN', 0], 'HG03193': ['ESN', 0], 'HG03195': ['ESN', 1], 'HG03196': ['ESN', 1], 'HG03198': ['ESN', 0], 'HG03199': ['ESN', 0], 'HG03202': ['ESN', 0], 'HG03209': ['MSL', 0], 'HG03212': ['MSL', 0], 'HG03224': ['MSL', 0], 'HG03225': ['MSL', 1], 'HG03228': ['PJL', 1], 'HG03229': ['PJL', 2], 'HG03234': ['PJL', 1], 'HG03235': ['PJL', 1], 'HG03237': ['PJL', 1], 'HG03238': ['PJL', 1], 'HG03240': ['GWD', 0], 'HG03241': ['GWD', 0], 'HG03246': ['GWD', 0], 'HG03247': ['GWD', 0], 'HG03258': ['GWD', 0], 'HG03259': ['GWD', 0], 'HG03265': ['ESN', 1], 'HG03267': ['ESN', 0], 'HG03268': ['ESN', 0], 'HG03270': ['ESN', 0], 'HG03271': ['ESN', 0], 'HG03279': ['ESN', 0], 'HG03280': ['ESN', 0], 'HG03291': ['ESN', 0], 'HG03294': ['ESN', 0], 'HG03295': ['ESN', 0], 'HG03297': ['ESN', 0], 'HG03298': ['ESN', 0], 'HG03300': ['ESN', 0], 'HG03301': ['ESN', 0], 'HG03303': ['ESN', 0], 'HG03304': ['ESN', 0], 'HG03311': ['ESN', 1], 'HG03313': ['ESN', 0], 'HG03342': ['ESN', 1], 'HG03343': ['ESN', 0], 'HG03351': ['ESN', 0], 'HG03352': ['ESN', 0], 'HG03354': ['ESN', 2], 'HG03363': ['ESN', 0], 'HG03366': ['ESN', 0], 'HG03367': ['ESN', 0], 'HG03369': ['ESN', 0], 'HG03370': ['ESN', 0], 'HG03372': ['ESN', 0], 'HG03376': ['MSL', 0], 'HG03378': ['MSL', 1], 'HG03380': ['MSL', 0], 'HG03382': ['MSL', 0], 'HG03385': ['MSL', 2], 'HG03388': ['MSL', 1], 'HG03391': ['MSL', 0], 'HG03393': ['MSL', 0], 'HG03394': ['MSL', 0], 'HG03397': ['MSL', 0], 'HG03398': ['MSL', 1], 'HG03401': ['MSL', 0], 'HG03410': ['MSL', 1], 'HG03419': ['MSL', 0], 'HG03428': ['MSL', 0], 'HG03431': ['MSL', 0], 'HG03432': ['MSL', 0], 'HG03433': ['MSL', 0], 'HG03436': ['MSL', 0], 'HG03437': ['MSL', 0], 'HG03439': ['MSL', 1], 'HG03442': ['MSL', 0], 'HG03445': ['MSL', 1], 'HG03446': ['MSL', 0], 'HG03449': ['MSL', 0], 'HG03451': ['MSL', 0], 'HG03452': ['MSL', 0], 'HG03455': ['MSL', 1], 'HG03457': ['MSL', 0], 'HG03458': ['MSL', 1], 'HG03460': ['MSL', 0], 'HG03461': ['MSL', 0], 'HG03462': ['MSL', 2], 'HG03464': ['MSL', 0], 'HG03469': ['MSL', 0], 'HG03470': ['MSL', 1], 'HG03472': ['MSL', 1], 'HG03473': ['MSL', 0], 'HG03476': ['MSL', 0], 'HG03478': ['MSL', 0], 'HG03479': ['MSL', 0], 'HG03484': ['MSL', 1], 'HG03485': ['MSL', 0], 'HG03488': ['PJL', 2], 'HG03490': ['PJL', 1], 'HG03491': ['PJL', 1], 'HG03499': ['ESN', 0], 'HG03511': ['ESN', 0], 'HG03514': ['ESN', 1], 'HG03515': ['ESN', 0], 'HG03517': ['ESN', 0], 'HG03518': ['ESN', 1], 'HG03520': ['ESN', 0], 'HG03521': ['ESN', 1], 'HG03538': ['GWD', 0], 'HG03539': ['GWD', 1], 'HG03547': ['MSL', 0], 'HG03548': ['MSL', 0], 'HG03549': ['MSL', 0], 'HG03556': ['MSL', 0], 'HG03557': ['MSL', 0], 'HG03558': ['MSL', 0], 'HG03559': ['MSL', 1], 'HG03563': ['MSL', 0], 'HG03565': ['MSL', 1], 'HG03567': ['MSL', 0], 'HG03571': ['MSL', 0], 'HG03572': ['MSL', 0], 'HG03575': ['MSL', 0], 'HG03577': ['MSL', 0], 'HG03578': ['MSL', 0], 'HG03583': ['MSL', 0], 'HG03585': ['BEB', 1], 'HG03589': ['BEB', 2], 'HG03593': ['BEB', 2], 'HG03594': ['BEB', 2], 'HG03595': ['BEB', 1], 'HG03598': ['BEB', 1], 'HG03600': ['BEB', 1], 'HG03603': ['BEB', 2], 'HG03604': ['BEB', 1], 'HG03607': ['BEB', 1], 'HG03611': ['BEB', 2], 'HG03615': ['BEB', 2], 'HG03616': ['BEB', 1], 'HG03619': ['PJL', 0], 'HG03624': ['PJL', 1], 'HG03625': ['PJL', 2], 'HG03629': ['PJL', 1], 'HG03631': ['PJL', 2], 'HG03634': ['PJL', 1], 'HG03636': ['PJL', 0], 'HG03640': ['PJL', 0], 'HG03642': ['STU', 1], 'HG03643': ['STU', 1], 'HG03644': ['STU', 1], 'HG03645': ['STU', 1], 'HG03646': ['STU', 2], 'HG03649': ['PJL', 1], 'HG03652': ['PJL', 2], 'HG03653': ['PJL', 2], 'HG03660': ['PJL', 2], 'HG03663': ['PJL', 1], 'HG03667': ['PJL', 1], 'HG03668': ['PJL', 2], 'HG03672': ['STU', 2], 'HG03673': ['STU', 2], 'HG03679': ['STU', 1], 'HG03680': ['STU', 2], 'HG03681': ['STU', 2], 'HG03684': ['STU', 1], 'HG03685': ['STU', 1], 'HG03686': ['STU', 2], 'HG03687': ['STU', 2], 'HG03689': ['STU', 1], 'HG03690': ['STU', 2], 'HG03691': ['STU', 1], 'HG03692': ['STU', 2], 'HG03693': ['STU', 1], 'HG03694': ['STU', 1], 'HG03695': ['STU', 2], 'HG03696': ['STU', 1], 'HG03697': ['STU', 2], 'HG03698': ['STU', 1], 'HG03702': ['PJL', 1], 'HG03703': ['PJL', 1], 'HG03705': ['PJL', 1], 'HG03706': ['PJL', 2], 'HG03708': ['PJL', 2], 'HG03709': ['PJL', 1], 'HG03711': ['STU', 1], 'HG03713': ['ITU', 2], 'HG03714': ['ITU', 1], 'HG03716': ['ITU', 2], 'HG03717': ['ITU', 2], 'HG03718': ['ITU', 1], 'HG03720': ['ITU', 1], 'HG03722': ['ITU', 1], 'HG03727': ['ITU', 2], 'HG03729': ['ITU', 2], 'HG03730': ['ITU', 1], 'HG03731': ['ITU', 1], 'HG03733': ['STU', 1], 'HG03736': ['STU', 1], 'HG03738': ['STU', 1], 'HG03740': ['STU', 2], 'HG03741': ['STU', 2], 'HG03742': ['ITU', 1], 'HG03743': ['STU', 2], 'HG03744': ['STU', 1], 'HG03745': ['STU', 2], 'HG03746': ['STU', 1], 'HG03750': ['STU', 1], 'HG03752': ['STU', 2], 'HG03753': ['STU', 0], 'HG03754': ['STU', 0], 'HG03755': ['STU', 0], 'HG03756': ['STU', 1], 'HG03757': ['STU', 2], 'HG03760': ['STU', 1], 'HG03762': ['PJL', 1], 'HG03765': ['PJL', 2], 'HG03767': ['PJL', 1], 'HG03770': ['ITU', 0], 'HG03771': ['ITU', 2], 'HG03772': ['ITU', 2], 'HG03773': ['ITU', 2], 'HG03774': ['ITU', 2], 'HG03775': ['ITU', 0], 'HG03777': ['ITU', 2], 'HG03778': ['ITU', 2], 'HG03779': ['ITU', 1], 'HG03780': ['ITU', 2], 'HG03781': ['ITU', 0], 'HG03782': ['ITU', 2], 'HG03784': ['ITU', 2], 'HG03785': ['ITU', 1], 'HG03786': ['ITU', 1], 'HG03787': ['ITU', 1], 'HG03788': ['ITU', 1], 'HG03789': ['ITU', 1], 'HG03790': ['ITU', 2], 'HG03792': ['ITU', 2], 'HG03793': ['BEB', 1], 'HG03796': ['BEB', 1], 'HG03800': ['BEB', 2], 'HG03802': ['BEB', 1], 'HG03803': ['BEB', 2], 'HG03805': ['BEB', 1], 'HG03808': ['BEB', 2], 'HG03809': ['BEB', 2], 'HG03812': ['BEB', 2], 'HG03814': ['BEB', 0], 'HG03815': ['BEB', 2], 'HG03817': ['BEB', 0], 'HG03821': ['BEB', 2], 'HG03823': ['BEB', 2], 'HG03824': ['BEB', 1], 'HG03826': ['BEB', 2], 'HG03829': ['BEB', 2], 'HG03830': ['BEB', 2], 'HG03832': ['BEB', 2], 'HG03833': ['BEB', 1], 'HG03836': ['STU', 1], 'HG03837': ['STU', 1], 'HG03838': ['STU', 1], 'HG03844': ['STU', 2], 'HG03846': ['STU', 1], 'HG03848': ['STU', 2], 'HG03849': ['STU', 2], 'HG03850': ['STU', 1], 'HG03851': ['STU', 1], 'HG03854': ['STU', 0], 'HG03856': ['STU', 2], 'HG03857': ['STU', 2], 'HG03858': ['STU', 2], 'HG03861': ['ITU', 1], 'HG03862': ['ITU', 2], 'HG03863': ['ITU', 1], 'HG03864': ['ITU', 2], 'HG03866': ['ITU', 1], 'HG03867': ['ITU', 0], 'HG03868': ['ITU', 2], 'HG03869': ['ITU', 1], 'HG03870': ['ITU', 1], 'HG03871': ['ITU', 2], 'HG03872': ['ITU', 2], 'HG03873': ['ITU', 2], 'HG03874': ['ITU', 1], 'HG03875': ['ITU', 1], 'HG03882': ['ITU', 1], 'HG03884': ['STU', 1], 'HG03885': ['STU', 2], 'HG03886': ['STU', 1], 'HG03887': ['STU', 1], 'HG03888': ['STU', 0], 'HG03890': ['STU', 1], 'HG03894': ['STU', 2], 'HG03895': ['STU', 2], 'HG03896': ['STU', 2], 'HG03897': ['STU', 1], 'HG03898': ['STU', 1], 'HG03899': ['STU', 2], 'HG03900': ['STU', 1], 'HG03902': ['BEB', 1], 'HG03905': ['BEB', 2], 'HG03907': ['BEB', 0], 'HG03908': ['BEB', 1], 'HG03910': ['BEB', 2], 'HG03911': ['BEB', 1], 'HG03913': ['BEB', 2], 'HG03914': ['BEB', 2], 'HG03916': ['BEB', 2], 'HG03917': ['BEB', 1], 'HG03919': ['BEB', 1], 'HG03920': ['BEB', 0], 'HG03922': ['BEB', 2], 'HG03925': ['BEB', 2], 'HG03926': ['BEB', 0], 'HG03928': ['BEB', 2], 'HG03931': ['BEB', 1], 'HG03934': ['BEB', 2], 'HG03937': ['BEB', 0], 'HG03940': ['BEB', 2], 'HG03941': ['BEB', 1], 'HG03943': ['STU', 2], 'HG03944': ['STU', 2], 'HG03945': ['STU', 2], 'HG03947': ['STU', 2], 'HG03949': ['STU', 1], 'HG03950': ['STU', 2], 'HG03951': ['STU', 1], 'HG03953': ['STU', 2], 'HG03955': ['STU', 2], 'HG03960': ['ITU', 2], 'HG03963': ['ITU', 0], 'HG03965': ['ITU', 1], 'HG03967': ['ITU', 1], 'HG03968': ['ITU', 1], 'HG03969': ['ITU', 1], 'HG03971': ['ITU', 1], 'HG03973': ['ITU', 2], 'HG03974': ['ITU', 1], 'HG03976': ['ITU', 2], 'HG03977': ['ITU', 0], 'HG03978': ['ITU', 1], 'HG03985': ['STU', 2], 'HG03986': ['STU', 2], 'HG03989': ['STU', 1], 'HG03990': ['STU', 2], 'HG03991': ['STU', 1], 'HG03995': ['STU', 0], 'HG03998': ['STU', 2], 'HG03999': ['STU', 2], 'HG04001': ['ITU', 2], 'HG04002': ['ITU', 2], 'HG04003': ['STU', 0], 'HG04006': ['STU', 2], 'HG04014': ['ITU', 1], 'HG04015': ['ITU', 2], 'HG04017': ['ITU', 2], 'HG04018': ['ITU', 2], 'HG04019': ['ITU', 2], 'HG04020': ['ITU', 1], 'HG04022': ['ITU', 1], 'HG04023': ['ITU', 2], 'HG04025': ['ITU', 1], 'HG04026': ['ITU', 1], 'HG04029': ['STU', 1], 'HG04033': ['STU', 1], 'HG04035': ['STU', 1], 'HG04038': ['STU', 0], 'HG04039': ['STU', 2], 'HG04042': ['STU', 2], 'HG04047': ['STU', 1], 'HG04054': ['ITU', 1], 'HG04056': ['ITU', 2], 'HG04059': ['ITU', 1], 'HG04060': ['ITU', 1], 'HG04061': ['ITU', 2], 'HG04062': ['ITU', 2], 'HG04063': ['ITU', 1], 'HG04070': ['ITU', 1], 'HG04075': ['STU', 2], 'HG04076': ['ITU', 0], 'HG04080': ['ITU', 1], 'HG04090': ['ITU', 1], 'HG04093': ['ITU', 1], 'HG04094': ['ITU', 1], 'HG04096': ['ITU', 0], 'HG04098': ['ITU', 1], 'HG04099': ['STU', 0], 'HG04100': ['STU', 0], 'HG04106': ['STU', 2], 'HG04107': ['STU', 1], 'HG04118': ['ITU', 2], 'HG04131': ['BEB', 2], 'HG04134': ['BEB', 2], 'HG04140': ['BEB', 2], 'HG04141': ['BEB', 2], 'HG04144': ['BEB', 1], 'HG04146': ['BEB', 1], 'HG04152': ['BEB', 2], 'HG04153': ['BEB', 1], 'HG04155': ['BEB', 1], 'HG04156': ['BEB', 2], 'HG04158': ['BEB', 2], 'HG04159': ['BEB', 0], 'HG04161': ['BEB', 2], 'HG04162': ['BEB', 2], 'HG04164': ['BEB', 2], 'HG04171': ['BEB', 2], 'HG04173': ['BEB', 1], 'HG04176': ['BEB', 2], 'HG04177': ['BEB', 0], 'HG04180': ['BEB', 1], 'HG04182': ['BEB', 0], 'HG04183': ['BEB', 1], 'HG04185': ['BEB', 2], 'HG04186': ['BEB', 2], 'HG04188': ['BEB', 2], 'HG04189': ['BEB', 1], 'HG04194': ['BEB', 1], 'HG04195': ['BEB', 1], 'HG04198': ['ITU', 1], 'HG04200': ['ITU', 1], 'HG04202': ['ITU', 2], 'HG04206': ['ITU', 1], 'HG04209': ['ITU', 1], 'HG04210': ['STU', 2], 'HG04211': ['ITU', 1], 'HG04212': ['ITU', 1], 'HG04214': ['ITU', 2], 'HG04216': ['ITU', 2], 'HG04219': ['ITU', 1], 'HG04222': ['ITU', 0], 'HG04225': ['ITU', 1], 'HG04227': ['STU', 0], 'HG04229': ['STU', 0], 'HG04235': ['ITU', 1], 'HG04238': ['ITU', 1], 'HG04239': ['ITU', 1], 'HG04301': ['GBR', 1], 'HG04302': ['GBR', 1], 'HG04303': ['GBR', 1], 'NA06984': ['CEU', 0], 'NA06985': ['CEU', 0], 'NA06986': ['CEU', 1], 'NA06989': ['CEU', 1], 'NA06994': ['CEU', 2], 'NA07000': ['CEU', 0], 'NA07037': ['CEU', 1], 'NA07048': ['CEU', 0], 'NA07051': ['CEU', 0], 'NA07056': ['CEU', 1], 'NA07347': ['CEU', 1], 'NA07357': ['CEU', 1], 'NA10847': ['CEU', 1], 'NA10851': ['CEU', 1], 'NA11829': ['CEU', 2], 'NA11830': ['CEU', 1], 'NA11831': ['CEU', 1], 'NA11832': ['CEU', 1], 'NA11840': ['CEU', 1], 'NA11843': ['CEU', 0], 'NA11881': ['CEU', 1], 'NA11892': ['CEU', 1], 'NA11893': ['CEU', 1], 'NA11894': ['CEU', 1], 'NA11918': ['CEU', 1], 'NA11919': ['CEU', 1], 'NA11920': ['CEU', 2], 'NA11930': ['CEU', 0], 'NA11931': ['CEU', 1], 'NA11932': ['CEU', 0], 'NA11933': ['CEU', 2], 'NA11992': ['CEU', 2], 'NA11994': ['CEU', 0], 'NA11995': ['CEU', 1], 'NA12003': ['CEU', 0], 'NA12004': ['CEU', 0], 'NA12005': ['CEU', 1], 'NA12006': ['CEU', 1], 'NA12043': ['CEU', 1], 'NA12044': ['CEU', 1], 'NA12045': ['CEU', 1], 'NA12046': ['CEU', 1], 'NA12058': ['CEU', 2], 'NA12144': ['CEU', 1], 'NA12154': ['CEU', 1], 'NA12155': ['CEU', 1], 'NA12156': ['CEU', 1], 'NA12234': ['CEU', 0], 'NA12249': ['CEU', 1], 'NA12272': ['CEU', 1], 'NA12273': ['CEU', 2], 'NA12275': ['CEU', 0], 'NA12282': ['CEU', 1], 'NA12283': ['CEU', 1], 'NA12286': ['CEU', 1], 'NA12287': ['CEU', 1], 'NA12340': ['CEU', 1], 'NA12341': ['CEU', 1], 'NA12342': ['CEU', 2], 'NA12347': ['CEU', 0], 'NA12348': ['CEU', 0], 'NA12383': ['CEU', 1], 'NA12399': ['CEU', 1], 'NA12400': ['CEU', 1], 'NA12413': ['CEU', 2], 'NA12414': ['CEU', 2], 'NA12489': ['CEU', 1], 'NA12546': ['CEU', 1], 'NA12716': ['CEU', 1], 'NA12717': ['CEU', 2], 'NA12718': ['CEU', 0], 'NA12748': ['CEU', 1], 'NA12749': ['CEU', 0], 'NA12750': ['CEU', 0], 'NA12751': ['CEU', 1], 'NA12760': ['CEU', 1], 'NA12761': ['CEU', 1], 'NA12762': ['CEU', 2], 'NA12763': ['CEU', 1], 'NA12775': ['CEU', 2], 'NA12776': ['CEU', 1], 'NA12777': ['CEU', 0], 'NA12778': ['CEU', 2], 'NA12812': ['CEU', 1], 'NA12813': ['CEU', 1], 'NA12814': ['CEU', 2], 'NA12815': ['CEU', 0], 'NA12827': ['CEU', 1], 'NA12828': ['CEU', 1], 'NA12829': ['CEU', 1], 'NA12830': ['CEU', 2], 'NA12842': ['CEU', 1], 'NA12843': ['CEU', 2], 'NA12872': ['CEU', 1], 'NA12873': ['CEU', 1], 'NA12874': ['CEU', 1], 'NA12878': ['CEU', 0], 'NA12889': ['CEU', 1], 'NA12890': ['CEU', 1], 'NA18486': ['YRI', 0], 'NA18488': ['YRI', 0], 'NA18489': ['YRI', 0], 'NA18499': ['YRI', 0], 'NA18501': ['YRI', 0], 'NA18502': ['YRI', 1], 'NA18504': ['YRI', 0], 'NA18505': ['YRI', 1], 'NA18507': ['YRI', 0], 'NA18508': ['YRI', 0], 'NA18510': ['YRI', 0], 'NA18511': ['YRI', 1], 'NA18516': ['YRI', 1], 'NA18517': ['YRI', 0], 'NA18519': ['YRI', 0], 'NA18520': ['YRI', 0], 'NA18522': ['YRI', 1], 'NA18523': ['YRI', 1], 'NA18525': ['CHB', 1], 'NA18526': ['CHB', 2], 'NA18527': ['CHB', 2], 'NA18528': ['CHB', 2], 'NA18530': ['CHB', 1], 'NA18531': ['CHB', 1], 'NA18532': ['CHB', 2], 'NA18533': ['CHB', 2], 'NA18534': ['CHB', 2], 'NA18535': ['CHB', 1], 'NA18536': ['CHB', 2], 'NA18537': ['CHB', 2], 'NA18538': ['CHB', 2], 'NA18539': ['CHB', 2], 'NA18541': ['CHB', 1], 'NA18542': ['CHB', 2], 'NA18543': ['CHB', 2], 'NA18544': ['CHB', 2], 'NA18545': ['CHB', 1], 'NA18546': ['CHB', 2], 'NA18547': ['CHB', 2], 'NA18548': ['CHB', 2], 'NA18549': ['CHB', 2], 'NA18550': ['CHB', 1], 'NA18552': ['CHB', 2], 'NA18553': ['CHB', 2], 'NA18555': ['CHB', 2], 'NA18557': ['CHB', 2], 'NA18558': ['CHB', 1], 'NA18559': ['CHB', 2], 'NA18560': ['CHB', 2], 'NA18561': ['CHB', 1], 'NA18562': ['CHB', 2], 'NA18563': ['CHB', 2], 'NA18564': ['CHB', 0], 'NA18565': ['CHB', 1], 'NA18566': ['CHB', 2], 'NA18567': ['CHB', 2], 'NA18570': ['CHB', 2], 'NA18571': ['CHB', 2], 'NA18572': ['CHB', 1], 'NA18573': ['CHB', 1], 'NA18574': ['CHB', 0], 'NA18576': ['CHB', 2], 'NA18577': ['CHB', 2], 'NA18579': ['CHB', 2], 'NA18582': ['CHB', 2], 'NA18591': ['CHB', 1], 'NA18592': ['CHB', 2], 'NA18593': ['CHB', 1], 'NA18595': ['CHB', 0], 'NA18596': ['CHB', 2], 'NA18597': ['CHB', 2], 'NA18599': ['CHB', 1], 'NA18602': ['CHB', 2], 'NA18603': ['CHB', 2], 'NA18605': ['CHB', 1], 'NA18606': ['CHB', 2], 'NA18608': ['CHB', 1], 'NA18609': ['CHB', 2], 'NA18610': ['CHB', 1], 'NA18611': ['CHB', 2], 'NA18612': ['CHB', 2], 'NA18613': ['CHB', 0], 'NA18614': ['CHB', 2], 'NA18615': ['CHB', 2], 'NA18616': ['CHB', 2], 'NA18617': ['CHB', 1], 'NA18618': ['CHB', 2], 'NA18619': ['CHB', 2], 'NA18620': ['CHB', 2], 'NA18621': ['CHB', 2], 'NA18622': ['CHB', 1], 'NA18623': ['CHB', 2], 'NA18624': ['CHB', 2], 'NA18625': ['CHB', 0], 'NA18626': ['CHB', 2], 'NA18627': ['CHB', 1], 'NA18628': ['CHB', 1], 'NA18629': ['CHB', 1], 'NA18630': ['CHB', 2], 'NA18631': ['CHB', 2], 'NA18632': ['CHB', 2], 'NA18633': ['CHB', 2], 'NA18634': ['CHB', 2], 'NA18635': ['CHB', 0], 'NA18636': ['CHB', 2], 'NA18637': ['CHB', 2], 'NA18638': ['CHB', 2], 'NA18639': ['CHB', 1], 'NA18640': ['CHB', 2], 'NA18641': ['CHB', 2], 'NA18642': ['CHB', 2], 'NA18643': ['CHB', 2], 'NA18644': ['CHB', 2], 'NA18645': ['CHB', 1], 'NA18646': ['CHB', 1], 'NA18647': ['CHB', 2], 'NA18648': ['CHB', 1], 'NA18740': ['CHB', 2], 'NA18745': ['CHB', 1], 'NA18747': ['CHB', 2], 'NA18748': ['CHB', 2], 'NA18749': ['CHB', 2], 'NA18757': ['CHB', 1], 'NA18791': ['CHB', 0], 'NA18853': ['YRI', 0], 'NA18856': ['YRI', 0], 'NA18858': ['YRI', 1], 'NA18861': ['YRI', 0], 'NA18864': ['YRI', 1], 'NA18865': ['YRI', 0], 'NA18867': ['YRI', 1], 'NA18868': ['YRI', 0], 'NA18870': ['YRI', 1], 'NA18871': ['YRI', 0], 'NA18873': ['YRI', 0], 'NA18874': ['YRI', 2], 'NA18876': ['YRI', 1], 'NA18877': ['YRI', 1], 'NA18878': ['YRI', 1], 'NA18879': ['YRI', 1], 'NA18881': ['YRI', 0], 'NA18907': ['YRI', 0], 'NA18908': ['YRI', 0], 'NA18909': ['YRI', 1], 'NA18910': ['YRI', 0], 'NA18912': ['YRI', 0], 'NA18915': ['YRI', 0], 'NA18916': ['YRI', 1], 'NA18917': ['YRI', 0], 'NA18923': ['YRI', 0], 'NA18924': ['YRI', 1], 'NA18933': ['YRI', 0], 'NA18934': ['YRI', 0], 'NA18939': ['JPT', 1], 'NA18940': ['JPT', 2], 'NA18941': ['JPT', 1], 'NA18942': ['JPT', 0], 'NA18943': ['JPT', 2], 'NA18944': ['JPT', 2], 'NA18945': ['JPT', 1], 'NA18946': ['JPT', 2], 'NA18947': ['JPT', 1], 'NA18948': ['JPT', 2], 'NA18949': ['JPT', 2], 'NA18950': ['JPT', 2], 'NA18951': ['JPT', 1], 'NA18952': ['JPT', 1], 'NA18953': ['JPT', 2], 'NA18954': ['JPT', 2], 'NA18955': ['JPT', 2], 'NA18956': ['JPT', 2], 'NA18957': ['JPT', 1], 'NA18959': ['JPT', 1], 'NA18960': ['JPT', 2], 'NA18961': ['JPT', 1], 'NA18962': ['JPT', 2], 'NA18963': ['JPT', 1], 'NA18964': ['JPT', 2], 'NA18965': ['JPT', 2], 'NA18966': ['JPT', 2], 'NA18967': ['JPT', 2], 'NA18968': ['JPT', 2], 'NA18969': ['JPT', 1], 'NA18970': ['JPT', 1], 'NA18971': ['JPT', 2], 'NA18972': ['JPT', 2], 'NA18973': ['JPT', 1], 'NA18974': ['JPT', 1], 'NA18975': ['JPT', 2], 'NA18976': ['JPT', 2], 'NA18977': ['JPT', 1], 'NA18978': ['JPT', 1], 'NA18979': ['JPT', 2], 'NA18980': ['JPT', 1], 'NA18981': ['JPT', 2], 'NA18982': ['JPT', 2], 'NA18983': ['JPT', 1], 'NA18984': ['JPT', 0], 'NA18985': ['JPT', 1], 'NA18986': ['JPT', 2], 'NA18987': ['JPT', 2], 'NA18988': ['JPT', 2], 'NA18989': ['JPT', 2], 'NA18990': ['JPT', 2], 'NA18991': ['JPT', 2], 'NA18992': ['JPT', 2], 'NA18993': ['JPT', 1], 'NA18994': ['JPT', 2], 'NA18995': ['JPT', 2], 'NA18997': ['JPT', 2], 'NA18998': ['JPT', 2], 'NA18999': ['JPT', 2], 'NA19000': ['JPT', 1], 'NA19001': ['JPT', 2], 'NA19002': ['JPT', 2], 'NA19003': ['JPT', 2], 'NA19004': ['JPT', 2], 'NA19005': ['JPT', 2], 'NA19006': ['JPT', 1], 'NA19007': ['JPT', 2], 'NA19009': ['JPT', 2], 'NA19010': ['JPT', 2], 'NA19011': ['JPT', 0], 'NA19012': ['JPT', 1], 'NA19017': ['LWK', 1], 'NA19019': ['LWK', 1], 'NA19020': ['LWK', 1], 'NA19023': ['LWK', 0], 'NA19024': ['LWK', 0], 'NA19025': ['LWK', 0], 'NA19026': ['LWK', 0], 'NA19027': ['LWK', 0], 'NA19028': ['LWK', 0], 'NA19030': ['LWK', 0], 'NA19031': ['LWK', 0], 'NA19035': ['LWK', 0], 'NA19036': ['LWK', 1], 'NA19037': ['LWK', 0], 'NA19038': ['LWK', 0], 'NA19041': ['LWK', 1], 'NA19042': ['LWK', 1], 'NA19043': ['LWK', 0], 'NA19044': ['LWK', 0], 'NA19054': ['JPT', 2], 'NA19055': ['JPT', 2], 'NA19056': ['JPT', 2], 'NA19057': ['JPT', 2], 'NA19058': ['JPT', 1], 'NA19059': ['JPT', 2], 'NA19060': ['JPT', 2], 'NA19062': ['JPT', 0], 'NA19063': ['JPT', 1], 'NA19064': ['JPT', 1], 'NA19065': ['JPT', 2], 'NA19066': ['JPT', 0], 'NA19067': ['JPT', 2], 'NA19068': ['JPT', 1], 'NA19070': ['JPT', 1], 'NA19072': ['JPT', 1], 'NA19074': ['JPT', 2], 'NA19075': ['JPT', 1], 'NA19076': ['JPT', 1], 'NA19077': ['JPT', 1], 'NA19078': ['JPT', 1], 'NA19079': ['JPT', 1], 'NA19080': ['JPT', 2], 'NA19081': ['JPT', 2], 'NA19082': ['JPT', 2], 'NA19083': ['JPT', 2], 'NA19084': ['JPT', 2], 'NA19085': ['JPT', 2], 'NA19086': ['JPT', 2], 'NA19087': ['JPT', 2], 'NA19088': ['JPT', 1], 'NA19089': ['JPT', 2], 'NA19090': ['JPT', 2], 'NA19091': ['JPT', 1], 'NA19092': ['YRI', 0], 'NA19093': ['YRI', 0], 'NA19095': ['YRI', 0], 'NA19096': ['YRI', 0], 'NA19098': ['YRI', 0], 'NA19099': ['YRI', 1], 'NA19102': ['YRI', 0], 'NA19107': ['YRI', 0], 'NA19108': ['YRI', 0], 'NA19113': ['YRI', 1], 'NA19114': ['YRI', 0], 'NA19116': ['YRI', 1], 'NA19117': ['YRI', 1], 'NA19118': ['YRI', 0], 'NA19119': ['YRI', 0], 'NA19121': ['YRI', 0], 'NA19129': ['YRI', 1], 'NA19130': ['YRI', 0], 'NA19131': ['YRI', 1], 'NA19137': ['YRI', 0], 'NA19138': ['YRI', 0], 'NA19141': ['YRI', 1], 'NA19143': ['YRI', 1], 'NA19144': ['YRI', 0], 'NA19146': ['YRI', 0], 'NA19147': ['YRI', 0], 'NA19149': ['YRI', 1], 'NA19152': ['YRI', 0], 'NA19153': ['YRI', 0], 'NA19159': ['YRI', 0], 'NA19160': ['YRI', 0], 'NA19171': ['YRI', 0], 'NA19172': ['YRI', 0], 'NA19175': ['YRI', 1], 'NA19184': ['YRI', 1], 'NA19185': ['YRI', 0], 'NA19189': ['YRI', 0], 'NA19190': ['YRI', 1], 'NA19197': ['YRI', 0], 'NA19198': ['YRI', 0], 'NA19200': ['YRI', 0], 'NA19201': ['YRI', 0], 'NA19204': ['YRI', 0], 'NA19206': ['YRI', 0], 'NA19207': ['YRI', 0], 'NA19209': ['YRI', 0], 'NA19210': ['YRI', 0], 'NA19213': ['YRI', 0], 'NA19214': ['YRI', 0], 'NA19222': ['YRI', 1], 'NA19223': ['YRI', 0], 'NA19225': ['YRI', 0], 'NA19235': ['YRI', 1], 'NA19236': ['YRI', 0], 'NA19238': ['YRI', 1], 'NA19239': ['YRI', 0], 'NA19247': ['YRI', 0], 'NA19248': ['YRI', 1], 'NA19256': ['YRI', 0], 'NA19257': ['YRI', 0], 'NA19307': ['LWK', 1], 'NA19308': ['LWK', 2], 'NA19309': ['LWK', 1], 'NA19310': ['LWK', 0], 'NA19312': ['LWK', 2], 'NA19314': ['LWK', 1], 'NA19315': ['LWK', 0], 'NA19316': ['LWK', 0], 'NA19317': ['LWK', 0], 'NA19318': ['LWK', 0], 'NA19319': ['LWK', 1], 'NA19320': ['LWK', 0], 'NA19321': ['LWK', 0], 'NA19323': ['LWK', 0], 'NA19324': ['LWK', 0], 'NA19327': ['LWK', 0], 'NA19328': ['LWK', 0], 'NA19331': ['LWK', 0], 'NA19332': ['LWK', 0], 'NA19334': ['LWK', 0], 'NA19338': ['LWK', 0], 'NA19346': ['LWK', 0], 'NA19347': ['LWK', 0], 'NA19350': ['LWK', 0], 'NA19351': ['LWK', 0], 'NA19355': ['LWK', 0], 'NA19359': ['LWK', 0], 'NA19360': ['LWK', 1], 'NA19371': ['LWK', 0], 'NA19372': ['LWK', 0], 'NA19374': ['LWK', 0], 'NA19375': ['LWK', 0], 'NA19376': ['LWK', 0], 'NA19377': ['LWK', 1], 'NA19378': ['LWK', 0], 'NA19379': ['LWK', 0], 'NA19380': ['LWK', 0], 'NA19383': ['LWK', 0], 'NA19384': ['LWK', 0], 'NA19385': ['LWK', 0], 'NA19390': ['LWK', 0], 'NA19391': ['LWK', 0], 'NA19393': ['LWK', 0], 'NA19394': ['LWK', 0], 'NA19395': ['LWK', 0], 'NA19397': ['LWK', 0], 'NA19398': ['LWK', 1], 'NA19399': ['LWK', 0], 'NA19401': ['LWK', 0], 'NA19403': ['LWK', 0], 'NA19404': ['LWK', 1], 'NA19428': ['LWK', 0], 'NA19429': ['LWK', 0], 'NA19430': ['LWK', 1], 'NA19431': ['LWK', 0], 'NA19434': ['LWK', 0], 'NA19435': ['LWK', 0], 'NA19436': ['LWK', 0], 'NA19437': ['LWK', 0], 'NA19438': ['LWK', 0], 'NA19439': ['LWK', 0], 'NA19440': ['LWK', 0], 'NA19443': ['LWK', 0], 'NA19445': ['LWK', 0], 'NA19446': ['LWK', 0], 'NA19448': ['LWK', 0], 'NA19449': ['LWK', 0], 'NA19451': ['LWK', 0], 'NA19452': ['LWK', 0], 'NA19454': ['LWK', 1], 'NA19455': ['LWK', 0], 'NA19456': ['LWK', 0], 'NA19457': ['LWK', 0], 'NA19461': ['LWK', 0], 'NA19462': ['LWK', 0], 'NA19463': ['LWK', 1], 'NA19466': ['LWK', 0], 'NA19467': ['LWK', 0], 'NA19468': ['LWK', 1], 'NA19471': ['LWK', 0], 'NA19472': ['LWK', 0], 'NA19473': ['LWK', 0], 'NA19474': ['LWK', 0], 'NA19475': ['LWK', 0], 'NA19625': ['ASW', 1], 'NA19648': ['MXL', 1], 'NA19649': ['MXL', 1], 'NA19651': ['MXL', 0], 'NA19652': ['MXL', 1], 'NA19654': ['MXL', 1], 'NA19655': ['MXL', 0], 'NA19657': ['MXL', 2], 'NA19658': ['MXL', 2], 'NA19661': ['MXL', 1], 'NA19663': ['MXL', 2], 'NA19664': ['MXL', 0], 'NA19669': ['MXL', 0], 'NA19670': ['MXL', 2], 'NA19676': ['MXL', 2], 'NA19678': ['MXL', 0], 'NA19679': ['MXL', 0], 'NA19681': ['MXL', 1], 'NA19682': ['MXL', 0], 'NA19684': ['MXL', 1], 'NA19700': ['ASW', 1], 'NA19701': ['ASW', 1], 'NA19703': ['ASW', 0], 'NA19704': ['ASW', 0], 'NA19707': ['ASW', 1], 'NA19711': ['ASW', 1], 'NA19712': ['ASW', 0], 'NA19713': ['ASW', 0], 'NA19716': ['MXL', 2], 'NA19717': ['MXL', 1], 'NA19719': ['MXL', 0], 'NA19720': ['MXL', 1], 'NA19722': ['MXL', 1], 'NA19723': ['MXL', 2], 'NA19725': ['MXL', 0], 'NA19726': ['MXL', 0], 'NA19728': ['MXL', 1], 'NA19729': ['MXL', 0], 'NA19731': ['MXL', 1], 'NA19732': ['MXL', 1], 'NA19734': ['MXL', 1], 'NA19735': ['MXL', 2], 'NA19740': ['MXL', 1], 'NA19741': ['MXL', 1], 'NA19746': ['MXL', 2], 'NA19747': ['MXL', 1], 'NA19749': ['MXL', 1], 'NA19750': ['MXL', 2], 'NA19752': ['MXL', 1], 'NA19755': ['MXL', 1], 'NA19756': ['MXL', 2], 'NA19758': ['MXL', 2], 'NA19759': ['MXL', 2], 'NA19761': ['MXL', 2], 'NA19762': ['MXL', 2], 'NA19764': ['MXL', 0], 'NA19770': ['MXL', 2], 'NA19771': ['MXL', 2], 'NA19773': ['MXL', 1], 'NA19774': ['MXL', 2], 'NA19776': ['MXL', 2], 'NA19777': ['MXL', 1], 'NA19779': ['MXL', 1], 'NA19780': ['MXL', 0], 'NA19782': ['MXL', 2], 'NA19783': ['MXL', 1], 'NA19785': ['MXL', 2], 'NA19786': ['MXL', 2], 'NA19788': ['MXL', 2], 'NA19789': ['MXL', 1], 'NA19792': ['MXL', 2], 'NA19794': ['MXL', 0], 'NA19795': ['MXL', 1], 'NA19818': ['ASW', 0], 'NA19819': ['ASW', 0], 'NA19834': ['ASW', 0], 'NA19835': ['ASW', 0], 'NA19900': ['ASW', 1], 'NA19901': ['ASW', 0], 'NA19904': ['ASW', 1], 'NA19908': ['ASW', 0], 'NA19909': ['ASW', 1], 'NA19913': ['ASW', 1], 'NA19914': ['ASW', 1], 'NA19916': ['ASW', 0], 'NA19917': ['ASW', 0], 'NA19920': ['ASW', 0], 'NA19921': ['ASW', 1], 'NA19922': ['ASW', 1], 'NA19923': ['ASW', 1], 'NA19982': ['ASW', 0], 'NA19984': ['ASW', 1], 'NA20126': ['ASW', 1], 'NA20127': ['ASW', 1], 'NA20274': ['ASW', 0], 'NA20276': ['ASW', 0], 'NA20278': ['ASW', 0], 'NA20281': ['ASW', 1], 'NA20282': ['ASW', 1], 'NA20287': ['ASW', 0], 'NA20289': ['ASW', 0], 'NA20291': ['ASW', 0], 'NA20294': ['ASW', 0], 'NA20296': ['ASW', 1], 'NA20298': ['ASW', 0], 'NA20299': ['ASW', 2], 'NA20314': ['ASW', 1], 'NA20317': ['ASW', 2], 'NA20318': ['ASW', 2], 'NA20320': ['ASW', 0], 'NA20321': ['ASW', 0], 'NA20332': ['ASW', 0], 'NA20334': ['ASW', 1], 'NA20339': ['ASW', 1], 'NA20340': ['ASW', 2], 'NA20342': ['ASW', 0], 'NA20346': ['ASW', 1], 'NA20348': ['ASW', 0], 'NA20351': ['ASW', 1], 'NA20355': ['ASW', 0], 'NA20356': ['ASW', 1], 'NA20357': ['ASW', 0], 'NA20359': ['ASW', 1], 'NA20362': ['ASW', 1], 'NA20412': ['ASW', 0], 'NA20502': ['TSI', 0], 'NA20503': ['TSI', 2], 'NA20504': ['TSI', 1], 'NA20505': ['TSI', 2], 'NA20506': ['TSI', 1], 'NA20507': ['TSI', 0], 'NA20508': ['TSI', 1], 'NA20509': ['TSI', 2], 'NA20510': ['TSI', 2], 'NA20511': ['TSI', 1], 'NA20512': ['TSI', 2], 'NA20513': ['TSI', 0], 'NA20514': ['TSI', 1], 'NA20515': ['TSI', 1], 'NA20516': ['TSI', 2], 'NA20517': ['TSI', 1], 'NA20518': ['TSI', 0], 'NA20519': ['TSI', 2], 'NA20520': ['TSI', 0], 'NA20521': ['TSI', 2], 'NA20522': ['TSI', 1], 'NA20524': ['TSI', 0], 'NA20525': ['TSI', 1], 'NA20527': ['TSI', 1], 'NA20528': ['TSI', 0], 'NA20529': ['TSI', 0], 'NA20530': ['TSI', 1], 'NA20531': ['TSI', 1], 'NA20532': ['TSI', 0], 'NA20533': ['TSI', 2], 'NA20534': ['TSI', 1], 'NA20535': ['TSI', 2], 'NA20536': ['TSI', 1], 'NA20537': ['TSI', 1], 'NA20538': ['TSI', 1], 'NA20539': ['TSI', 2], 'NA20540': ['TSI', 1], 'NA20541': ['TSI', 1], 'NA20542': ['TSI', 1], 'NA20543': ['TSI', 2], 'NA20544': ['TSI', 2], 'NA20581': ['TSI', 0], 'NA20582': ['TSI', 1], 'NA20585': ['TSI', 2], 'NA20586': ['TSI', 1], 'NA20587': ['TSI', 1], 'NA20588': ['TSI', 1], 'NA20589': ['TSI', 2], 'NA20752': ['TSI', 2], 'NA20753': ['TSI', 0], 'NA20754': ['TSI', 1], 'NA20755': ['TSI', 1], 'NA20756': ['TSI', 1], 'NA20757': ['TSI', 2], 'NA20758': ['TSI', 1], 'NA20759': ['TSI', 1], 'NA20760': ['TSI', 1], 'NA20761': ['TSI', 1], 'NA20762': ['TSI', 2], 'NA20763': ['TSI', 2], 'NA20764': ['TSI', 2], 'NA20765': ['TSI', 2], 'NA20766': ['TSI', 1], 'NA20767': ['TSI', 1], 'NA20768': ['TSI', 0], 'NA20769': ['TSI', 0], 'NA20770': ['TSI', 0], 'NA20771': ['TSI', 1], 'NA20772': ['TSI', 1], 'NA20773': ['TSI', 1], 'NA20774': ['TSI', 1], 'NA20775': ['TSI', 1], 'NA20778': ['TSI', 2], 'NA20783': ['TSI', 0], 'NA20785': ['TSI', 2], 'NA20786': ['TSI', 1], 'NA20787': ['TSI', 0], 'NA20790': ['TSI', 1], 'NA20792': ['TSI', 2], 'NA20795': ['TSI', 0], 'NA20796': ['TSI', 1], 'NA20797': ['TSI', 2], 'NA20798': ['TSI', 2], 'NA20799': ['TSI', 1], 'NA20800': ['TSI', 2], 'NA20801': ['TSI', 2], 'NA20802': ['TSI', 2], 'NA20803': ['TSI', 1], 'NA20804': ['TSI', 1], 'NA20805': ['TSI', 1], 'NA20806': ['TSI', 2], 'NA20807': ['TSI', 2], 'NA20808': ['TSI', 2], 'NA20809': ['TSI', 0], 'NA20810': ['TSI', 1], 'NA20811': ['TSI', 2], 'NA20812': ['TSI', 1], 'NA20813': ['TSI', 1], 'NA20814': ['TSI', 1], 'NA20815': ['TSI', 2], 'NA20816': ['TSI', 1], 'NA20818': ['TSI', 1], 'NA20819': ['TSI', 2], 'NA20821': ['TSI', 2], 'NA20822': ['TSI', 1], 'NA20826': ['TSI', 1], 'NA20827': ['TSI', 1], 'NA20828': ['TSI', 0], 'NA20829': ['TSI', 0], 'NA20831': ['TSI', 2], 'NA20832': ['TSI', 0], 'NA20845': ['GIH', 0], 'NA20846': ['GIH', 1], 'NA20847': ['GIH', 1], 'NA20849': ['GIH', 2], 'NA20850': ['GIH', 1], 'NA20851': ['GIH', 1], 'NA20852': ['GIH', 2], 'NA20853': ['GIH', 0], 'NA20854': ['GIH', 0], 'NA20856': ['GIH', 2], 'NA20858': ['GIH', 2], 'NA20859': ['GIH', 1], 'NA20861': ['GIH', 1], 'NA20862': ['GIH', 2], 'NA20863': ['GIH', 1], 'NA20864': ['GIH', 2], 'NA20866': ['GIH', 2], 'NA20867': ['GIH', 2], 'NA20868': ['GIH', 2], 'NA20869': ['GIH', 1], 'NA20870': ['GIH', 1], 'NA20872': ['GIH', 1], 'NA20873': ['GIH', 1], 'NA20874': ['GIH', 1], 'NA20875': ['GIH', 2], 'NA20876': ['GIH', 2], 'NA20877': ['GIH', 0], 'NA20878': ['GIH', 2], 'NA20881': ['GIH', 1], 'NA20882': ['GIH', 2], 'NA20883': ['GIH', 2], 'NA20884': ['GIH', 1], 'NA20885': ['GIH', 0], 'NA20886': ['GIH', 1], 'NA20887': ['GIH', 0], 'NA20888': ['GIH', 1], 'NA20889': ['GIH', 1], 'NA20890': ['GIH', 1], 'NA20891': ['GIH', 1], 'NA20892': ['GIH', 2], 'NA20894': ['GIH', 1], 'NA20895': ['GIH', 2], 'NA20896': ['GIH', 1], 'NA20897': ['GIH', 1], 'NA20899': ['GIH', 0], 'NA20900': ['GIH', 1], 'NA20901': ['GIH', 1], 'NA20902': ['GIH', 0], 'NA20903': ['GIH', 2], 'NA20904': ['GIH', 2], 'NA20905': ['GIH', 2], 'NA20906': ['GIH', 2], 'NA20908': ['GIH', 2], 'NA20910': ['GIH', 1], 'NA20911': ['GIH', 1], 'NA21086': ['GIH', 1], 'NA21087': ['GIH', 2], 'NA21088': ['GIH', 0], 'NA21089': ['GIH', 1], 'NA21090': ['GIH', 1], 'NA21091': ['GIH', 2], 'NA21092': ['GIH', 1], 'NA21093': ['GIH', 0], 'NA21094': ['GIH', 1], 'NA21095': ['GIH', 1], 'NA21097': ['GIH', 0], 'NA21098': ['GIH', 1], 'NA21099': ['GIH', 1], 'NA21100': ['GIH', 2], 'NA21101': ['GIH', 1], 'NA21102': ['GIH', 2], 'NA21103': ['GIH', 2], 'NA21104': ['GIH', 2], 'NA21105': ['GIH', 2], 'NA21106': ['GIH', 1], 'NA21107': ['GIH', 1], 'NA21108': ['GIH', 2], 'NA21109': ['GIH', 0], 'NA21110': ['GIH', 1], 'NA21111': ['GIH', 2], 'NA21112': ['GIH', 0], 'NA21113': ['GIH', 2], 'NA21114': ['GIH', 1], 'NA21115': ['GIH', 0], 'NA21116': ['GIH', 1], 'NA21117': ['GIH', 2], 'NA21118': ['GIH', 2], 'NA21119': ['GIH', 0], 'NA21120': ['GIH', 1], 'NA21121': ['GIH', 2], 'NA21122': ['GIH', 1], 'NA21123': ['GIH', 1], 'NA21124': ['GIH', 2], 'NA21125': ['GIH', 1], 'NA21126': ['GIH', 1], 'NA21127': ['GIH', 1], 'NA21128': ['GIH', 1], 'NA21129': ['GIH', 1], 'NA21130': ['GIH', 0], 'NA21133': ['GIH', 1], 'NA21135': ['GIH', 1], 'NA21137': ['GIH', 1], 'NA21141': ['GIH', 1], 'NA21142': ['GIH', 1], 'NA21143': ['GIH', 0]}\n"
     ]
    }
   ],
   "source": [
    "humanID_to_PopCode_Genotype = get_humanID_to_PopCode_Genotype(humanID_to_genotype, humanID_to_PopulationCode)\n",
    "print(humanID_to_PopCode_Genotype)"
   ]
  },
  {
   "cell_type": "code",
   "execution_count": 10,
   "metadata": {},
   "outputs": [],
   "source": [
    "def get_populationCode_totalGeneFrequencies(humanID_to_PopCode_Genotype):\n",
    "    populationCode_to_geneFrequencies = {}\n",
    "\n",
    "    for value in humanID_to_PopCode_Genotype.values():\n",
    "\n",
    "        population_Code = value[0]\n",
    "        genoType = value[1]\n",
    "\n",
    "        if genoType == 0:\n",
    "            genoTypeList = [1, 0, 0]\n",
    "        elif genoType == 1:\n",
    "            genoTypeList = [0, 1, 0]\n",
    "        elif genoType == 2:\n",
    "            genoTypeList = [0, 0, 1]\n",
    "\n",
    "        if population_Code not in populationCode_to_geneFrequencies:\n",
    "            populationCode_to_geneFrequencies[population_Code] = genoTypeList\n",
    "\n",
    "        elif population_Code in populationCode_to_geneFrequencies:\n",
    "\n",
    "            currentGenoTypeList = populationCode_to_geneFrequencies.get(population_Code)\n",
    "\n",
    "            # Use a list comprehension to add the elements from the two lists together\n",
    "            totalGenoTypeList = [x + y for x, y in zip(currentGenoTypeList, genoTypeList)]\n",
    "\n",
    "            populationCode_to_geneFrequencies[population_Code] = totalGenoTypeList\n",
    "\n",
    "    print(\"populationCode_to_geneFrequencies\\n\", populationCode_to_geneFrequencies)\n",
    "\n",
    "    return populationCode_to_geneFrequencies\n"
   ]
  },
  {
   "cell_type": "code",
   "execution_count": 11,
   "metadata": {},
   "outputs": [
    {
     "name": "stdout",
     "output_type": "stream",
     "text": [
      "populationCode_to_geneFrequencies\n",
      " {'GBR': [27, 53, 20], 'FIN': [39, 43, 23], 'CHS': [6, 34, 65], 'PUR': [21, 60, 23], 'CDX': [10, 47, 43], 'CLM': [19, 50, 26], 'IBS': [27, 55, 25], 'PEL': [7, 38, 40], 'PJL': [16, 48, 32], 'KHV': [6, 34, 59], 'ACB': [61, 34, 2], 'GWD': [82, 26, 5], 'ESN': [73, 25, 2], 'BEB': [9, 31, 46], 'MSL': [69, 19, 2], 'STU': [12, 44, 46], 'ITU': [9, 54, 39], 'CEU': [21, 61, 17], 'YRI': [73, 33, 1], 'CHB': [7, 29, 70], 'JPT': [5, 36, 64], 'LWK': [83, 18, 2], 'ASW': [30, 27, 4], 'MXL': [14, 26, 24], 'TSI': [21, 53, 37], 'GIH': [17, 53, 35]}\n"
     ]
    }
   ],
   "source": [
    "populationCode_to_geneFrequencies = get_populationCode_totalGeneFrequencies(humanID_to_PopCode_Genotype)"
   ]
  },
  {
   "cell_type": "code",
   "execution_count": 12,
   "metadata": {},
   "outputs": [],
   "source": [
    "def total(populationCode_to_geneFrequencies):\n",
    "    totalList = []\n",
    "    for value in populationCode_to_geneFrequencies.values():\n",
    "        total = value[0] + value[1] + value[2]\n",
    "        totalList.append(total)\n",
    "\n",
    "    print(totalList)\n",
    "    return totalList"
   ]
  },
  {
   "cell_type": "code",
   "execution_count": 13,
   "metadata": {},
   "outputs": [
    {
     "name": "stdout",
     "output_type": "stream",
     "text": [
      "[100, 105, 105, 104, 100, 95, 107, 85, 96, 99, 97, 113, 100, 86, 90, 102, 102, 99, 107, 106, 105, 103, 61, 64, 111, 105]\n"
     ]
    }
   ],
   "source": [
    "totalGeneFrequencies = total(populationCode_to_geneFrequencies)"
   ]
  },
  {
   "cell_type": "code",
   "execution_count": 14,
   "metadata": {},
   "outputs": [],
   "source": [
    "def get_populationCode_to_genePercentages(populationCode_to_geneFrequencies, totalGeneFrequencies):\n",
    "\n",
    "    populationCode_to_genePercentages = {}\n",
    "\n",
    "    cnt = 0\n",
    "    # print(totalGeneFrequencies[int(cnt)])\n",
    "    for key, value in populationCode_to_geneFrequencies.items():\n",
    "        totalDivider = totalGeneFrequencies[int(cnt)]\n",
    "        cnt += 1\n",
    "        homozygousRecessive = value[0]/totalDivider\n",
    "        heterozygous = value[1]/totalDivider\n",
    "        homozygousDominate = value[2]/totalDivider\n",
    "\n",
    "        populationCode_to_genePercentages[key] = [homozygousRecessive, heterozygous, homozygousDominate]\n",
    "\n",
    "    return populationCode_to_genePercentages\n"
   ]
  },
  {
   "cell_type": "code",
   "execution_count": 15,
   "metadata": {},
   "outputs": [
    {
     "name": "stdout",
     "output_type": "stream",
     "text": [
      "{'GBR': [0.27, 0.53, 0.2], 'FIN': [0.37142857142857144, 0.4095238095238095, 0.21904761904761905], 'CHS': [0.05714285714285714, 0.3238095238095238, 0.6190476190476191], 'PUR': [0.20192307692307693, 0.5769230769230769, 0.22115384615384615], 'CDX': [0.1, 0.47, 0.43], 'CLM': [0.2, 0.5263157894736842, 0.2736842105263158], 'IBS': [0.2523364485981308, 0.514018691588785, 0.2336448598130841], 'PEL': [0.08235294117647059, 0.4470588235294118, 0.47058823529411764], 'PJL': [0.16666666666666666, 0.5, 0.3333333333333333], 'KHV': [0.06060606060606061, 0.3434343434343434, 0.5959595959595959], 'ACB': [0.6288659793814433, 0.35051546391752575, 0.020618556701030927], 'GWD': [0.7256637168141593, 0.23008849557522124, 0.04424778761061947], 'ESN': [0.73, 0.25, 0.02], 'BEB': [0.10465116279069768, 0.36046511627906974, 0.5348837209302325], 'MSL': [0.7666666666666667, 0.2111111111111111, 0.022222222222222223], 'STU': [0.11764705882352941, 0.43137254901960786, 0.45098039215686275], 'ITU': [0.08823529411764706, 0.5294117647058824, 0.38235294117647056], 'CEU': [0.21212121212121213, 0.6161616161616161, 0.1717171717171717], 'YRI': [0.6822429906542056, 0.308411214953271, 0.009345794392523364], 'CHB': [0.0660377358490566, 0.27358490566037735, 0.660377358490566], 'JPT': [0.047619047619047616, 0.34285714285714286, 0.6095238095238096], 'LWK': [0.8058252427184466, 0.17475728155339806, 0.019417475728155338], 'ASW': [0.4918032786885246, 0.4426229508196721, 0.06557377049180328], 'MXL': [0.21875, 0.40625, 0.375], 'TSI': [0.1891891891891892, 0.4774774774774775, 0.3333333333333333], 'GIH': [0.1619047619047619, 0.5047619047619047, 0.3333333333333333]}\n"
     ]
    }
   ],
   "source": [
    "populationCode_to_genePercentages = get_populationCode_to_genePercentages(populationCode_to_geneFrequencies, totalGeneFrequencies)\n",
    "\n",
    "print(populationCode_to_genePercentages)"
   ]
  },
  {
   "cell_type": "code",
   "execution_count": 16,
   "metadata": {},
   "outputs": [],
   "source": [
    "def print_populationCode_to_genePercentages(populationCode_to_genePercentages):\n",
    "    print(\"PopCode --  homozygousRecessive, heterozygous, homozygousDominate\")\n",
    "    for key, value in populationCode_to_genePercentages.items():\n",
    "        print(key, \" ----- \", format(value[0], '.3f'), format(value[1], '.3f'), format(value[2], '.3f'))"
   ]
  },
  {
   "cell_type": "code",
   "execution_count": 17,
   "metadata": {},
   "outputs": [
    {
     "name": "stdout",
     "output_type": "stream",
     "text": [
      "PopCode --  homozygousRecessive, heterozygous, homozygousDominate\n",
      "GBR  -----  0.270 0.530 0.200\n",
      "FIN  -----  0.371 0.410 0.219\n",
      "CHS  -----  0.057 0.324 0.619\n",
      "PUR  -----  0.202 0.577 0.221\n",
      "CDX  -----  0.100 0.470 0.430\n",
      "CLM  -----  0.200 0.526 0.274\n",
      "IBS  -----  0.252 0.514 0.234\n",
      "PEL  -----  0.082 0.447 0.471\n",
      "PJL  -----  0.167 0.500 0.333\n",
      "KHV  -----  0.061 0.343 0.596\n",
      "ACB  -----  0.629 0.351 0.021\n",
      "GWD  -----  0.726 0.230 0.044\n",
      "ESN  -----  0.730 0.250 0.020\n",
      "BEB  -----  0.105 0.360 0.535\n",
      "MSL  -----  0.767 0.211 0.022\n",
      "STU  -----  0.118 0.431 0.451\n",
      "ITU  -----  0.088 0.529 0.382\n",
      "CEU  -----  0.212 0.616 0.172\n",
      "YRI  -----  0.682 0.308 0.009\n",
      "CHB  -----  0.066 0.274 0.660\n",
      "JPT  -----  0.048 0.343 0.610\n",
      "LWK  -----  0.806 0.175 0.019\n",
      "ASW  -----  0.492 0.443 0.066\n",
      "MXL  -----  0.219 0.406 0.375\n",
      "TSI  -----  0.189 0.477 0.333\n",
      "GIH  -----  0.162 0.505 0.333\n"
     ]
    }
   ],
   "source": [
    "print_populationCode_to_genePercentages(populationCode_to_genePercentages)"
   ]
  },
  {
   "cell_type": "markdown",
   "metadata": {},
   "source": [
    "# Conduct statistical tests on population code to GeneFrequencies \n",
    "\n",
    "- test with individuals\n",
    "- you want counts, not frequencies\n",
    "- test with continental groups \n",
    "- use chi square test "
   ]
  },
  {
   "cell_type": "code",
   "execution_count": 29,
   "metadata": {},
   "outputs": [
    {
     "name": "stdout",
     "output_type": "stream",
     "text": [
      "[585.61780105 103.24054316 396.0106383 ] [1.20654579e-107 1.77563521e-011 2.03603997e-068]\n"
     ]
    }
   ],
   "source": [
    "from scipy.stats import chisquare\n",
    "\n",
    "# define your dictionary\n",
    "data = {'apple': 10, 'banana': 20, 'orange': 30, 'pear': 40}\n",
    "\n",
    "# calculate the chi-square test statistic and p-value\n",
    "chi_square, p_value = chisquare(list(populationCode_to_geneFrequencies.values()))\n",
    "\n",
    "# print the results\n",
    "print(chi_square, p_value)\n"
   ]
  }
 ],
 "metadata": {
  "kernelspec": {
   "display_name": "Python 3.9.13 ('base')",
   "language": "python",
   "name": "python3"
  },
  "language_info": {
   "codemirror_mode": {
    "name": "ipython",
    "version": 3
   },
   "file_extension": ".py",
   "mimetype": "text/x-python",
   "name": "python",
   "nbconvert_exporter": "python",
   "pygments_lexer": "ipython3",
   "version": "3.9.13"
  },
  "orig_nbformat": 4,
  "vscode": {
   "interpreter": {
    "hash": "e862235458dcc43ce60f6439dfba4578949053168f0a6b8272bc7c7b0264254d"
   }
  }
 },
 "nbformat": 4,
 "nbformat_minor": 2
}
