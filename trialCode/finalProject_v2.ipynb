{
 "cells": [
  {
   "cell_type": "markdown",
   "metadata": {},
   "source": [
    "- For my final project, I will be analyzing how the number of certain cancer-risk SNPs correlate with specific ethnic groups.\n",
    "- My specific research question is as followed: `Are the genotypic frequencies of cancer-risk SNPs different in certain ethnic groups compared to others?`"
   ]
  },
  {
   "cell_type": "markdown",
   "metadata": {},
   "source": [
    "\n",
    "My analysis is follows:\n",
    "- For each ethnic group, I will calculate the frequency of homozygous recessive (0|0),\n",
    "homozygous dominate (1|1), and heterozygous (0|1, 1|0) for the cancer-risk SNPs.\n",
    "- Once the frequency and percentages are calculated for each group, I will perform a\n",
    "statistical test to determine if the differences in SNPs frequency between ethnic groups\n",
    "statistically significant.\n",
    "- If there is time, based on the genotypic frequencies, I will calculate if certain ethnic\n",
    "groups are at a greater risk to developing certain cancers compared to other groups."
   ]
  },
  {
   "cell_type": "code",
   "execution_count": 32,
   "metadata": {},
   "outputs": [],
   "source": [
    "import csv"
   ]
  },
  {
   "cell_type": "markdown",
   "metadata": {},
   "source": [
    "# Get Human IDs to Gene Frequencies"
   ]
  },
  {
   "cell_type": "code",
   "execution_count": 33,
   "metadata": {},
   "outputs": [],
   "source": [
    "def getGeneData_and_HumanIDs(data_File):\n",
    "    # Open the CSV file with the open() function\n",
    "    # This returns a file object that you can use to read the file\n",
    "    with open(data_File) as csvfile:\n",
    "        # Use the csv.reader() function to read the file\n",
    "        # This returns an iterable object that you can loop over\n",
    "        data = csv.reader(csvfile)\n",
    "\n",
    "        rawRowDataAsList = []\n",
    "\n",
    "        # Loop over the rows in the file\n",
    "        for row in data:\n",
    "            rawRowDataAsList.append(row)\n",
    "\n",
    "        # GENE DATA\n",
    "        rawParsedGeneData = rawRowDataAsList[20][0].split(\"\\t\")\n",
    "        geneData = rawParsedGeneData[9: len(rawParsedGeneData)-1]\n",
    "\n",
    "        # HUMAN IDs \n",
    "        rawHumanIDs = rawRowDataAsList[19][0].split(\"\\t\")\n",
    "        # print(\"rawHumanIDsParsed\\n\",rawHumanIDsParsed)\n",
    "\n",
    "        humanIDs = rawHumanIDs[9: len(rawHumanIDs)-1]\n",
    "        # print(\"humanIDs\\n\", humanIDs)\n",
    "        # print(len(humanIDs))\n",
    "\n",
    "    return (humanIDs, geneData)\n",
    "\n"
   ]
  },
  {
   "cell_type": "code",
   "execution_count": 34,
   "metadata": {},
   "outputs": [],
   "source": [
    "humanIDs, geneData = getGeneData_and_HumanIDs('rawData/rs4713266.csv')"
   ]
  },
  {
   "cell_type": "code",
   "execution_count": 35,
   "metadata": {},
   "outputs": [],
   "source": [
    "def get_humanID_to_genotype(humanIDs, geneData):\n",
    "    humanID_to_genotype = {}\n",
    "    \n",
    "    for i in range(0, len(geneData)):\n",
    "\n",
    "        if geneData[i] == \"0|0\":\n",
    "            humanID_to_genotype[humanIDs[i]] = 0\n",
    "        elif geneData[i] == \"1|0\" or geneData[i] == \"0|1\":\n",
    "            humanID_to_genotype[humanIDs[i]] = 1\n",
    "        elif geneData[i] == \"1|1\":\n",
    "            humanID_to_genotype[humanIDs[i]] = 2\n",
    "\n",
    "    return humanID_to_genotype\n"
   ]
  },
  {
   "cell_type": "code",
   "execution_count": 36,
   "metadata": {},
   "outputs": [],
   "source": [
    "humanID_to_genotype = get_humanID_to_genotype(humanIDs, geneData)\n",
    "# print(humanID_to_genotype)"
   ]
  },
  {
   "cell_type": "code",
   "execution_count": 37,
   "metadata": {},
   "outputs": [],
   "source": [
    "def get_humanID_to_PopulationCode(data_File):\n",
    "    # Open the CSV file with the open() function\n",
    "    # This returns a file object that you can use to read the file\n",
    "    with open(data_File) as csvfile:\n",
    "        # Use the csv.reader() function to read the file\n",
    "        # This returns an iterable object that you can loop over\n",
    "        data = csv.reader(csvfile)\n",
    "\n",
    "        rawRowDataAsList = []\n",
    "\n",
    "        # Loop over the rows in the file\n",
    "        for row in data:\n",
    "            rawRowDataAsList.append(row)\n",
    "\n",
    "        humanIDInfoHeader = rawRowDataAsList[0][0].split(\"\\t\")\n",
    "        # print(\"humanIDInfoHeader\\n\", humanIDInfoHeader)\n",
    "        del rawRowDataAsList[0]\n",
    "\n",
    "        humanInfoParsed = []\n",
    "\n",
    "        for rawHumanInfo in rawRowDataAsList:\n",
    "            singleHumanInfoParsed = rawHumanInfo[0].split(\"\\t\")\n",
    "            humanInfoParsed.append(singleHumanInfoParsed)\n",
    "        # print(\"humanInfoParsed\\n\", humanInfoParsed)\n",
    "\n",
    "        humanID_to_PopulationCode = {}\n",
    "\n",
    "        for humanInfo in humanInfoParsed:\n",
    "            humanID = humanInfo[0]\n",
    "            populationCode = humanInfo[3]\n",
    "            # humanID_and_PopulationCode.append([humanID, populationCode])\n",
    "            humanID_to_PopulationCode[humanID] = populationCode\n",
    "\n",
    "        # print(\"humanID_and_PopulationCode\\n\", humanID_to_PopulationCode)\n",
    "\n",
    "    return humanID_to_PopulationCode\n",
    "\n"
   ]
  },
  {
   "cell_type": "code",
   "execution_count": 84,
   "metadata": {},
   "outputs": [
    {
     "name": "stdout",
     "output_type": "stream",
     "text": [
      "4978\n"
     ]
    }
   ],
   "source": [
    "humanID_to_PopulationCode = get_humanID_to_PopulationCode('rawData/igsr_samples.tsv')\n",
    "print(len(humanID_to_PopulationCode))"
   ]
  },
  {
   "cell_type": "markdown",
   "metadata": {},
   "source": [
    "# Merge Population Codes with Gene Frequencies at Corresponding Human IDs"
   ]
  },
  {
   "cell_type": "code",
   "execution_count": 85,
   "metadata": {},
   "outputs": [],
   "source": [
    "def get_humanID_to_PopCode_Genotype(humanID_to_genotype, humanID_to_PopulationCode):\n",
    "\n",
    "    humanID_to_PopCode_Genotype = {}\n",
    "\n",
    "    for key in humanID_to_genotype.keys():\n",
    "        # print(\"Ran outerloop...\", key)\n",
    "        if key in humanID_to_PopulationCode.keys():\n",
    "            # print(\"Ran innerloop...\", key)\n",
    "            # print(humanID_to_PopulationCode.get(key), humanID_to_geneFrequency.get(key))\n",
    "            humanID_to_PopCode_Genotype[key] = [humanID_to_PopulationCode.get(key), humanID_to_genotype.get(key)]\n",
    "\n",
    "    # print(\"populationCode_to_geneFrequency\\n\", populationCode_to_geneFrequency)\n",
    "\n",
    "    return humanID_to_PopCode_Genotype"
   ]
  },
  {
   "cell_type": "code",
   "execution_count": 100,
   "metadata": {},
   "outputs": [],
   "source": [
    "humanID_to_PopCode_Genotype = get_humanID_to_PopCode_Genotype(humanID_to_genotype, humanID_to_PopulationCode)\n",
    "# print(humanID_to_PopCode_Genotype)"
   ]
  },
  {
   "cell_type": "code",
   "execution_count": 114,
   "metadata": {},
   "outputs": [],
   "source": [
    "def get_populationCode_totalGeneFrequencies(humanID_to_PopCode_Genotype):\n",
    "    populationCode_to_geneFrequencies = {}\n",
    "\n",
    "    for value in humanID_to_PopCode_Genotype.values():\n",
    "\n",
    "        population_Code = value[0]\n",
    "        genoType = value[1]\n",
    "\n",
    "        if genoType == 0:\n",
    "            genoTypeList = [1, 0, 0]\n",
    "        elif genoType == 1:\n",
    "            genoTypeList = [0, 1, 0]\n",
    "        elif genoType == 2:\n",
    "            genoTypeList = [0, 0, 1]\n",
    "\n",
    "        if population_Code not in populationCode_to_geneFrequencies:\n",
    "            populationCode_to_geneFrequencies[population_Code] = genoTypeList\n",
    "\n",
    "        elif population_Code in populationCode_to_geneFrequencies:\n",
    "\n",
    "            currentGenoTypeList = populationCode_to_geneFrequencies.get(population_Code)\n",
    "\n",
    "            # Use a list comprehension to add the elements from the two lists together\n",
    "            totalGenoTypeList = [x + y for x, y in zip(currentGenoTypeList, genoTypeList)]\n",
    "\n",
    "            populationCode_to_geneFrequencies[population_Code] = totalGenoTypeList\n",
    "\n",
    "    return populationCode_to_geneFrequencies\n"
   ]
  },
  {
   "cell_type": "code",
   "execution_count": 115,
   "metadata": {},
   "outputs": [
    {
     "name": "stdout",
     "output_type": "stream",
     "text": [
      "populationCode_to_geneFrequencies\n",
      " {'GBR': [27, 53, 20], 'FIN': [39, 43, 23], 'CHS': [6, 34, 65], 'PUR': [21, 60, 23], 'CDX': [10, 47, 43], 'CLM': [19, 50, 26], 'IBS': [27, 55, 25], 'PEL': [7, 38, 40], 'PJL': [16, 48, 32], 'KHV': [6, 34, 59], 'ACB': [61, 34, 2], 'GWD': [82, 26, 5], 'ESN': [73, 25, 2], 'BEB': [9, 31, 46], 'MSL': [69, 19, 2], 'STU': [12, 44, 46], 'ITU': [9, 54, 39], 'CEU': [21, 61, 17], 'YRI': [73, 33, 1], 'CHB': [7, 29, 70], 'JPT': [5, 36, 64], 'LWK': [83, 18, 2], 'ASW': [30, 27, 4], 'MXL': [14, 26, 24], 'TSI': [21, 53, 37], 'GIH': [17, 53, 35]}\n"
     ]
    }
   ],
   "source": [
    "populationCode_to_geneFrequencies = get_populationCode_totalGeneFrequencies(humanID_to_PopCode_Genotype)\n",
    "print(\"populationCode_to_geneFrequencies\\n\", populationCode_to_geneFrequencies)"
   ]
  },
  {
   "cell_type": "code",
   "execution_count": 116,
   "metadata": {},
   "outputs": [],
   "source": [
    "def print_populationCode_to_geneFrequencies(populationCode_to_geneFrequencies):\n",
    "    print(\"PopCode --  homozygousRecessive, heterozygous, homozygousDominate\")\n",
    "    for key, value in populationCode_to_geneFrequencies.items():\n",
    "        print(key, \" ----- \", value[0], value[1], value[2])"
   ]
  },
  {
   "cell_type": "code",
   "execution_count": 117,
   "metadata": {},
   "outputs": [
    {
     "name": "stdout",
     "output_type": "stream",
     "text": [
      "PopCode --  homozygousRecessive, heterozygous, homozygousDominate\n",
      "GBR  -----  27 53 20\n",
      "FIN  -----  39 43 23\n",
      "CHS  -----  6 34 65\n",
      "PUR  -----  21 60 23\n",
      "CDX  -----  10 47 43\n",
      "CLM  -----  19 50 26\n",
      "IBS  -----  27 55 25\n",
      "PEL  -----  7 38 40\n",
      "PJL  -----  16 48 32\n",
      "KHV  -----  6 34 59\n",
      "ACB  -----  61 34 2\n",
      "GWD  -----  82 26 5\n",
      "ESN  -----  73 25 2\n",
      "BEB  -----  9 31 46\n",
      "MSL  -----  69 19 2\n",
      "STU  -----  12 44 46\n",
      "ITU  -----  9 54 39\n",
      "CEU  -----  21 61 17\n",
      "YRI  -----  73 33 1\n",
      "CHB  -----  7 29 70\n",
      "JPT  -----  5 36 64\n",
      "LWK  -----  83 18 2\n",
      "ASW  -----  30 27 4\n",
      "MXL  -----  14 26 24\n",
      "TSI  -----  21 53 37\n",
      "GIH  -----  17 53 35\n"
     ]
    }
   ],
   "source": [
    "print_populationCode_to_geneFrequencies(populationCode_to_geneFrequencies)"
   ]
  },
  {
   "cell_type": "code",
   "execution_count": 118,
   "metadata": {},
   "outputs": [],
   "source": [
    "def total(populationCode_to_geneFrequencies):\n",
    "    totalList = []\n",
    "    for value in populationCode_to_geneFrequencies.values():\n",
    "        total = value[0] + value[1] + value[2]\n",
    "        totalList.append(total)\n",
    "\n",
    "    # print(totalList)\n",
    "    return totalList"
   ]
  },
  {
   "cell_type": "code",
   "execution_count": 119,
   "metadata": {},
   "outputs": [],
   "source": [
    "totalGeneFrequencies = total(populationCode_to_geneFrequencies)"
   ]
  },
  {
   "cell_type": "code",
   "execution_count": 120,
   "metadata": {},
   "outputs": [],
   "source": [
    "def get_populationCode_to_genePercentages(populationCode_to_geneFrequencies, totalGeneFrequencies):\n",
    "\n",
    "    populationCode_to_genePercentages = {}\n",
    "\n",
    "    cnt = 0\n",
    "    # print(totalGeneFrequencies[int(cnt)])\n",
    "    for key, value in populationCode_to_geneFrequencies.items():\n",
    "        totalDivider = totalGeneFrequencies[int(cnt)]\n",
    "        cnt += 1\n",
    "        homozygousRecessive = value[0]/totalDivider\n",
    "        heterozygous = value[1]/totalDivider\n",
    "        homozygousDominate = value[2]/totalDivider\n",
    "\n",
    "        populationCode_to_genePercentages[key] = [homozygousRecessive, heterozygous, homozygousDominate]\n",
    "\n",
    "    return populationCode_to_genePercentages\n"
   ]
  },
  {
   "cell_type": "code",
   "execution_count": 121,
   "metadata": {},
   "outputs": [],
   "source": [
    "populationCode_to_genePercentages = get_populationCode_to_genePercentages(populationCode_to_geneFrequencies, totalGeneFrequencies)\n",
    "# print(populationCode_to_genePercentages)"
   ]
  },
  {
   "cell_type": "code",
   "execution_count": 122,
   "metadata": {},
   "outputs": [],
   "source": [
    "def print_populationCode_to_genePercentages(populationCode_to_genePercentages):\n",
    "    print(\"PopCode --  homozygousRecessive, heterozygous, homozygousDominate\")\n",
    "    for key, value in populationCode_to_genePercentages.items():\n",
    "        print(key, \" ----- \", format(value[0], '.3f'), format(value[1], '.3f'), format(value[2], '.3f'))"
   ]
  },
  {
   "cell_type": "code",
   "execution_count": 123,
   "metadata": {},
   "outputs": [
    {
     "name": "stdout",
     "output_type": "stream",
     "text": [
      "PopCode --  homozygousRecessive, heterozygous, homozygousDominate\n",
      "GBR  -----  0.270 0.530 0.200\n",
      "FIN  -----  0.371 0.410 0.219\n",
      "CHS  -----  0.057 0.324 0.619\n",
      "PUR  -----  0.202 0.577 0.221\n",
      "CDX  -----  0.100 0.470 0.430\n",
      "CLM  -----  0.200 0.526 0.274\n",
      "IBS  -----  0.252 0.514 0.234\n",
      "PEL  -----  0.082 0.447 0.471\n",
      "PJL  -----  0.167 0.500 0.333\n",
      "KHV  -----  0.061 0.343 0.596\n",
      "ACB  -----  0.629 0.351 0.021\n",
      "GWD  -----  0.726 0.230 0.044\n",
      "ESN  -----  0.730 0.250 0.020\n",
      "BEB  -----  0.105 0.360 0.535\n",
      "MSL  -----  0.767 0.211 0.022\n",
      "STU  -----  0.118 0.431 0.451\n",
      "ITU  -----  0.088 0.529 0.382\n",
      "CEU  -----  0.212 0.616 0.172\n",
      "YRI  -----  0.682 0.308 0.009\n",
      "CHB  -----  0.066 0.274 0.660\n",
      "JPT  -----  0.048 0.343 0.610\n",
      "LWK  -----  0.806 0.175 0.019\n",
      "ASW  -----  0.492 0.443 0.066\n",
      "MXL  -----  0.219 0.406 0.375\n",
      "TSI  -----  0.189 0.477 0.333\n",
      "GIH  -----  0.162 0.505 0.333\n"
     ]
    }
   ],
   "source": [
    "print_populationCode_to_genePercentages(populationCode_to_genePercentages)"
   ]
  },
  {
   "cell_type": "markdown",
   "metadata": {},
   "source": [
    "# Conduct statistical tests on population code to GeneFrequencies \n",
    "\n",
    "- test with individuals\n",
    "- you want counts, not frequencies\n",
    "- test with continental groups \n",
    "- use chi square test "
   ]
  },
  {
   "cell_type": "code",
   "execution_count": null,
   "metadata": {},
   "outputs": [],
   "source": [
    "import pandas as pd\n",
    "from scipy.stats import chi2_contingency"
   ]
  },
  {
   "cell_type": "code",
   "execution_count": 131,
   "metadata": {},
   "outputs": [],
   "source": [
    "def create_df_from_populationCode_to_geneFrequencies(populationCode_to_geneFrequencies):\n",
    "    \n",
    "    geneFrequenciesList = []\n",
    "    populationCodesList = []\n",
    "    for key, value in populationCode_to_geneFrequencies.items():\n",
    "        geneFrequenciesList.append(value)\n",
    "        populationCodesList.append(key)\n",
    "\n",
    "    # Create a list of column names\n",
    "    columns = ['Recesssive', 'Heterozygous', 'Dominant']\n",
    "\n",
    "    # Convert the list of lists to a DataFrame\n",
    "    df = pd.DataFrame(geneFrequenciesList, columns=columns, index=populationCodesList)\n",
    "\n",
    "    # Print the resulting DataFrame\n",
    "    # print(df)\n",
    "\n",
    "    return df"
   ]
  },
  {
   "cell_type": "code",
   "execution_count": 132,
   "metadata": {},
   "outputs": [
    {
     "name": "stdout",
     "output_type": "stream",
     "text": [
      "     Recesssive  Heterozygous  Dominant\n",
      "GBR          27            53        20\n",
      "FIN          39            43        23\n",
      "CHS           6            34        65\n",
      "PUR          21            60        23\n",
      "CDX          10            47        43\n",
      "CLM          19            50        26\n",
      "IBS          27            55        25\n",
      "PEL           7            38        40\n",
      "PJL          16            48        32\n",
      "KHV           6            34        59\n",
      "ACB          61            34         2\n",
      "GWD          82            26         5\n",
      "ESN          73            25         2\n",
      "BEB           9            31        46\n",
      "MSL          69            19         2\n",
      "STU          12            44        46\n",
      "ITU           9            54        39\n",
      "CEU          21            61        17\n",
      "YRI          73            33         1\n",
      "CHB           7            29        70\n",
      "JPT           5            36        64\n",
      "LWK          83            18         2\n",
      "ASW          30            27         4\n",
      "MXL          14            26        24\n",
      "TSI          21            53        37\n",
      "GIH          17            53        35\n"
     ]
    }
   ],
   "source": [
    "dataframe_of_populationCode_to_geneFrequencies = create_df_from_populationCode_to_geneFrequencies(populationCode_to_geneFrequencies)\n",
    "print(dataframe_of_populationCode_to_geneFrequencies)"
   ]
  },
  {
   "cell_type": "code",
   "execution_count": 136,
   "metadata": {},
   "outputs": [],
   "source": [
    "def perform_chi_square_test(df):\n",
    "    # Perform the chi-square test\n",
    "    chi2, p, dof, expected = chi2_contingency(df)\n",
    "\n",
    "    # Print the results\n",
    "    print(f'Chi-square statistic: {chi2:.3f}')\n",
    "    print(f'p-value: {p:.3f}')\n",
    "    print(f'p-value:', p)\n",
    "    print(f'Degrees of freedom: {dof}')\n",
    "    print('Expected frequencies:')\n",
    "    print(expected)\n",
    "\n",
    "    return chi2"
   ]
  },
  {
   "cell_type": "code",
   "execution_count": 137,
   "metadata": {},
   "outputs": [
    {
     "name": "stdout",
     "output_type": "stream",
     "text": [
      "Chi-square statistic: 1016.589\n",
      "p-value: 0.000\n",
      "p-value: 2.6643478095338636e-180\n",
      "Degrees of freedom: 50\n",
      "Expected frequencies:\n",
      "[[29.99607381 40.4789949  29.52493129]\n",
      " [31.4958775  42.50294464 31.00117786]\n",
      " [31.4958775  42.50294464 31.00117786]\n",
      " [31.19591676 42.09815469 30.70592854]\n",
      " [29.99607381 40.4789949  29.52493129]\n",
      " [28.49627012 38.45504515 28.04868473]\n",
      " [32.09579898 43.31252454 31.59167648]\n",
      " [25.49666274 34.40714566 25.0961916 ]\n",
      " [28.79623086 38.8598351  28.34393404]\n",
      " [29.69611307 40.07420495 29.22968198]\n",
      " [29.0961916  39.26462505 28.63918335]\n",
      " [33.89556341 45.74126423 33.36317236]\n",
      " [29.99607381 40.4789949  29.52493129]\n",
      " [25.79662348 34.81193561 25.39144091]\n",
      " [26.99646643 36.43109541 26.57243816]\n",
      " [30.59599529 41.28857479 30.11542992]\n",
      " [30.59599529 41.28857479 30.11542992]\n",
      " [29.69611307 40.07420495 29.22968198]\n",
      " [32.09579898 43.31252454 31.59167648]\n",
      " [31.79583824 42.90773459 31.29642717]\n",
      " [31.4958775  42.50294464 31.00117786]\n",
      " [30.89595603 41.69336474 30.41067923]\n",
      " [18.29760503 24.69218689 18.01020809]\n",
      " [19.19748724 25.90655673 18.89595603]\n",
      " [33.29564193 44.93168433 32.77267373]\n",
      " [31.4958775  42.50294464 31.00117786]]\n"
     ]
    }
   ],
   "source": [
    "chi2 = perform_chi_square_test(dataframe_of_populationCode_to_geneFrequencies)"
   ]
  },
  {
   "attachments": {},
   "cell_type": "markdown",
   "metadata": {},
   "source": [
    "1. Gather a large amount of SNP data from the same chromosome as the desired SNP\n",
    "2. Calculate chi square stat for each snp and store that in a list\n",
    "3. plot that list of chi square states in a histogram for which i compared the desired SNP chi square stat against to determine significant"
   ]
  }
 ],
 "metadata": {
  "kernelspec": {
   "display_name": "Python 3.9.13 ('base')",
   "language": "python",
   "name": "python3"
  },
  "language_info": {
   "codemirror_mode": {
    "name": "ipython",
    "version": 3
   },
   "file_extension": ".py",
   "mimetype": "text/x-python",
   "name": "python",
   "nbconvert_exporter": "python",
   "pygments_lexer": "ipython3",
   "version": "3.9.13 (main, Aug 25 2022, 18:29:29) \n[Clang 12.0.0 ]"
  },
  "orig_nbformat": 4,
  "vscode": {
   "interpreter": {
    "hash": "e862235458dcc43ce60f6439dfba4578949053168f0a6b8272bc7c7b0264254d"
   }
  }
 },
 "nbformat": 4,
 "nbformat_minor": 2
}
