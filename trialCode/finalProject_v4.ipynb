{
 "cells": [
  {
   "cell_type": "code",
   "execution_count": 206,
   "metadata": {},
   "outputs": [],
   "source": [
    "import csv\n",
    "import pandas as pd\n",
    "from scipy.stats import chi2_contingency\n",
    "\n",
    "import final_project_functions"
   ]
  },
  {
   "attachments": {},
   "cell_type": "markdown",
   "metadata": {},
   "source": [
    "# 1. Control = Get list of humanIDs and get list of SNPs"
   ]
  },
  {
   "cell_type": "code",
   "execution_count": 207,
   "metadata": {},
   "outputs": [],
   "source": [
    "def convert_rawSNPData_to_Standard(snp_list):\n",
    "\n",
    "    standard_snp_list = []\n",
    "\n",
    "    for humanGene in snp_list:\n",
    "        if humanGene == \"0|0\":\n",
    "            standard_snp_list.append(0)\n",
    "        elif humanGene == \"1|0\" or humanGene == \"0|1\":\n",
    "            standard_snp_list.append(1)\n",
    "        elif humanGene == \"1|1\":\n",
    "            standard_snp_list.append(2)\n",
    "\n",
    "    return standard_snp_list"
   ]
  },
  {
   "cell_type": "code",
   "execution_count": 208,
   "metadata": {},
   "outputs": [],
   "source": [
    "def get_humanIDsList_SNPsList_control(file_in):\n",
    "\n",
    "    # Open the CSV file with the open() function\n",
    "    # This returns a file object that you can use to read the file\n",
    "    with open(file_in) as csvfile:\n",
    "\n",
    "        # Use the csv.reader() function to read the file\n",
    "        # This returns an iterable object that you can loop over\n",
    "        data = csv.reader(csvfile)\n",
    "\n",
    "        rawRowDataAsList = []\n",
    "\n",
    "        # Loop over the rows in the file\n",
    "        for row in data:\n",
    "            rawRowDataAsList.append(row)\n",
    "\n",
    "        # HUMAN IDs \n",
    "        rawHumanIDs = rawRowDataAsList[19][0].split(\"\\t\")\n",
    "        # print('rawHumanIDs\\n', rawHumanIDs)\n",
    "        humanIDs = rawHumanIDs[9: len(rawHumanIDs)-1]\n",
    "        # print('humanIDs\\n', humanIDs)\n",
    "\n",
    "        # GENE DATA\n",
    "        rawSNPData = rawRowDataAsList[20: len(rawRowDataAsList)-1]\n",
    "        # print('rawGeneData\\n', rawGeneData)\n",
    "\n",
    "        geneData = [] \n",
    "        for row in rawSNPData:\n",
    "            rawGeneRowParsed = row[0].split(\"\\t\")\n",
    "            snp_list = rawGeneRowParsed[9:len(rawGeneRowParsed)-1]\n",
    "            standard_snp_list = convert_rawSNPData_to_Standard(snp_list)\n",
    "            geneData.append(standard_snp_list)\n",
    "        # print(\"geneData\\n\", geneData)\n",
    "\n",
    "    return (humanIDs, geneData)"
   ]
  },
  {
   "cell_type": "code",
   "execution_count": 209,
   "metadata": {},
   "outputs": [],
   "source": [
    "# humanIDs_control, SNPData_control =  get_humanIDsList_SNPsList_control(\"testData/rs4713266.csv\")\n",
    "humanIDs_control, SNPData_control =  get_humanIDsList_SNPsList_control(\"testData/chr2-15k-30k.csv\")\n",
    "# humanIDs_control, SNPData_control =  get_humanIDsList_SNPsList_control(\"testData/chr2-1mil-2mil.csv\")\n",
    "# humanIDs_control, SNPData_control =  get_humanIDsList_SNPsList_control(\"testData/chr2-10mil-20mil.csv\")"
   ]
  },
  {
   "cell_type": "code",
   "execution_count": 210,
   "metadata": {},
   "outputs": [
    {
     "name": "stdout",
     "output_type": "stream",
     "text": [
      "2547\n"
     ]
    }
   ],
   "source": [
    "# print(\"SNPData_control\\n\", SNPData_control)\n",
    "print(len(humanIDs_control))"
   ]
  },
  {
   "cell_type": "code",
   "execution_count": 211,
   "metadata": {},
   "outputs": [],
   "source": [
    "def get_humanID_to_PopulationCode(file_in):\n",
    "\n",
    "    # Open the CSV file with the open() function\n",
    "    # This returns a file object that you can use to read the file\n",
    "    with open(file_in) as csvfile:\n",
    "        \n",
    "        # Use the csv.reader() function to read the file\n",
    "        # This returns an iterable object that you can loop over\n",
    "        data = csv.reader(csvfile)\n",
    "\n",
    "        rawRowDataAsList = []\n",
    "\n",
    "        # Loop over the rows in the file\n",
    "        for row in data:\n",
    "            rawRowDataAsList.append(row)\n",
    "\n",
    "        humanIDInfoHeader = rawRowDataAsList[0][0].split(\"\\t\")\n",
    "        del rawRowDataAsList[0]\n",
    "\n",
    "        humanInfoParsed = []\n",
    "\n",
    "        for rawHumanInfo in rawRowDataAsList:\n",
    "            singleHumanInfoParsed = rawHumanInfo[0].split(\"\\t\")\n",
    "            humanInfoParsed.append(singleHumanInfoParsed)\n",
    "\n",
    "        humanID_to_PopulationCode = {}\n",
    "\n",
    "        for humanInfo in humanInfoParsed:\n",
    "            humanID = humanInfo[0]\n",
    "            populationCode = humanInfo[3]\n",
    "            humanID_to_PopulationCode[humanID] = populationCode\n",
    "\n",
    "    return humanID_to_PopulationCode"
   ]
  },
  {
   "cell_type": "code",
   "execution_count": 212,
   "metadata": {},
   "outputs": [],
   "source": [
    "humanID_to_PopulationCode_sample = get_humanID_to_PopulationCode('rawData/igsr_samples.tsv')"
   ]
  },
  {
   "cell_type": "code",
   "execution_count": 213,
   "metadata": {},
   "outputs": [
    {
     "name": "stdout",
     "output_type": "stream",
     "text": [
      "4978\n"
     ]
    }
   ],
   "source": [
    "print(len(humanID_to_PopulationCode_sample))\n",
    "# print(\"humanID_to_PopulationCode_sample\\n\", humanID_to_PopulationCode_sample)"
   ]
  },
  {
   "cell_type": "code",
   "execution_count": 214,
   "metadata": {},
   "outputs": [],
   "source": [
    "populationCodes = []\n",
    "for humanID in humanIDs_control:\n",
    "    populationCode = humanID_to_PopulationCode_sample.get(humanID)\n",
    "    populationCodes.append(populationCode)"
   ]
  },
  {
   "cell_type": "code",
   "execution_count": 215,
   "metadata": {},
   "outputs": [],
   "source": [
    "# Create the dataframe with specified column names\n",
    "df = pd.DataFrame(SNPData_control, columns=populationCodes)\n",
    "\n",
    "# Print the dataframe\n",
    "# print(df)"
   ]
  },
  {
   "cell_type": "code",
   "execution_count": 216,
   "metadata": {},
   "outputs": [],
   "source": [
    "snps_populationCode_to_genotype_control = []\n",
    "\n",
    "# Loop through every row in the dataframe\n",
    "# i = 0\n",
    "for index, row in df.iterrows():\n",
    "    # Loop through every column name in the dataframe\n",
    "    # j = 0\n",
    "    snp_populationCode_to_genotype = []\n",
    "    for x in range(len(df.columns)):\n",
    "        # Print the values in each column\n",
    "        # print(row[x])\n",
    "    # for col in df.columns:\n",
    "        # Print the values in each column\n",
    "        # print(type())\n",
    "        # populationCode_to_genotype[df.columns[x]] = row[x]\n",
    "        snp_populationCode_to_genotype.append([df.columns[x], row[x]])\n",
    "    #     print(\"--\", i, j, \"Population Code:\", df.columns[x], \"Genotype:\", row[x], \"...END...\")\n",
    "    #     j += 1\n",
    "    # i += 1\n",
    "    snps_populationCode_to_genotype_control.append(snp_populationCode_to_genotype)\n",
    "\n",
    "# print(\"populationCode_to_genotype_control\\n\", snps_populationCode_to_genotype_control)"
   ]
  },
  {
   "cell_type": "code",
   "execution_count": 217,
   "metadata": {},
   "outputs": [],
   "source": [
    "snps_list_populationCode_to_geneFrequencies_control = []\n",
    "\n",
    "for snp in snps_populationCode_to_genotype_control:\n",
    "\n",
    "    populationCode_to_geneFrequencies = {}\n",
    "\n",
    "    for populationCode_genotype in snp:\n",
    "\n",
    "        populationCode = populationCode_genotype[0]\n",
    "        genotype = populationCode_genotype[1]\n",
    "\n",
    "        if genotype == 0:\n",
    "                genotypeList = [1, 0, 0]\n",
    "        elif genotype == 1:\n",
    "            genotypeList = [0, 1, 0]\n",
    "        elif genotype == 2:\n",
    "            genotypeList = [0, 0, 1]\n",
    "\n",
    "        if populationCode not in populationCode_to_geneFrequencies.keys():\n",
    "            populationCode_to_geneFrequencies[populationCode] = genotypeList\n",
    "\n",
    "        elif populationCode in populationCode_to_geneFrequencies.keys():\n",
    "            currentGenotypeList = populationCode_to_geneFrequencies.get(populationCode)\n",
    "\n",
    "            # Use a list comprehension to add the elements from the two lists together\n",
    "            totalGenotypeList = [x + y for x, y in zip(currentGenotypeList, genotypeList)]\n",
    "\n",
    "            populationCode_to_geneFrequencies[populationCode] = totalGenotypeList\n",
    "\n",
    "    snps_list_populationCode_to_geneFrequencies_control.append(populationCode_to_geneFrequencies)"
   ]
  },
  {
   "cell_type": "code",
   "execution_count": 218,
   "metadata": {},
   "outputs": [
    {
     "name": "stdout",
     "output_type": "stream",
     "text": [
      "566\n",
      "26\n"
     ]
    }
   ],
   "source": [
    "print(len(snps_list_populationCode_to_geneFrequencies_control))\n",
    "print(len(snps_list_populationCode_to_geneFrequencies_control[0]))\n",
    "# print(\"snps_list_populationCode_to_geneFrequencies_control\\n\", snps_list_populationCode_to_geneFrequencies_control)"
   ]
  },
  {
   "cell_type": "code",
   "execution_count": 219,
   "metadata": {},
   "outputs": [],
   "source": [
    "def create_df_from_populationCode_to_geneFrequencies(populationCode_to_geneFrequencies):\n",
    "    \n",
    "    geneFrequenciesList = []\n",
    "    populationCodesList = []\n",
    "    for key, value in populationCode_to_geneFrequencies.items():\n",
    "        geneFrequenciesList.append(value)\n",
    "        populationCodesList.append(key)\n",
    "\n",
    "    # Create a list of column names\n",
    "    columns = ['Recesssive', 'Heterozygous', 'Dominant']\n",
    "\n",
    "    # Convert the list of lists to a DataFrame\n",
    "    df = pd.DataFrame(geneFrequenciesList, columns=columns, index=populationCodesList)\n",
    "\n",
    "    # Print the resulting DataFrame\n",
    "    # print(df)\n",
    "\n",
    "    return df"
   ]
  },
  {
   "cell_type": "code",
   "execution_count": 220,
   "metadata": {},
   "outputs": [],
   "source": [
    "def perform_chi_square_test(df):\n",
    "\n",
    "    # Perform the chi-square test\n",
    "    try: \n",
    "        chi2, p, dof, expected = chi2_contingency(df)\n",
    "        return [chi2, p]\n",
    "    except:\n",
    "        return -1"
   ]
  },
  {
   "cell_type": "code",
   "execution_count": 221,
   "metadata": {},
   "outputs": [],
   "source": [
    "def get_chi2_p_forEachSNP_list(snps_list_populationCode_to_geneFrequencies_control):\n",
    "\n",
    "    chi2_p_list = []\n",
    "\n",
    "    for snp in snps_list_populationCode_to_geneFrequencies_control:\n",
    "\n",
    "        df = create_df_from_populationCode_to_geneFrequencies(snp)\n",
    "        # print(df)\n",
    "        chi2_p = perform_chi_square_test(df)\n",
    "\n",
    "        chi2_p_list.append(chi2_p)\n",
    "    \n",
    "    return chi2_p_list"
   ]
  },
  {
   "cell_type": "code",
   "execution_count": 222,
   "metadata": {},
   "outputs": [],
   "source": [
    "snps_chi2_p_list = get_chi2_p_forEachSNP_list(snps_list_populationCode_to_geneFrequencies_control)"
   ]
  },
  {
   "cell_type": "code",
   "execution_count": 223,
   "metadata": {},
   "outputs": [
    {
     "name": "stdout",
     "output_type": "stream",
     "text": [
      "566\n"
     ]
    }
   ],
   "source": [
    "print(len(snps_chi2_p_list))\n",
    "# print(\"snps_chi2_p_list\\n\", snps_chi2_p_list)"
   ]
  },
  {
   "cell_type": "code",
   "execution_count": 224,
   "metadata": {},
   "outputs": [
    {
     "name": "stdout",
     "output_type": "stream",
     "text": [
      "no_chi2_percentage\n",
      " 83.03886925795054\n",
      "96\n"
     ]
    }
   ],
   "source": [
    "totalSNPS = len(snps_chi2_p_list)\n",
    "\n",
    "no_chi2_cnt = 0\n",
    "\n",
    "chi2_list = []\n",
    "p_value_list = []\n",
    "\n",
    "for chi2_p in snps_chi2_p_list:\n",
    "\n",
    "    if chi2_p == -1:\n",
    "        no_chi2_cnt += 1\n",
    "\n",
    "    else:\n",
    "        chi2 = chi2_p[0]\n",
    "        p_value = chi2_p[1]\n",
    "\n",
    "        chi2_list.append(chi2)\n",
    "        p_value_list.append(p_value)\n",
    "\n",
    "\n",
    "no_chi2_percentage = (no_chi2_cnt/totalSNPS)*100\n",
    "\n",
    "print(\"no_chi2_percentage\\n\", no_chi2_percentage)\n",
    "\n",
    "print(len(chi2_list))\n",
    "# print(\"chi2_list\\n\", chi2_list)\n",
    "\n",
    "# print(\"p_value_list\\n\", p_value_list)\n"
   ]
  },
  {
   "cell_type": "code",
   "execution_count": 225,
   "metadata": {},
   "outputs": [
    {
     "data": {
      "image/png": "[encoded data removed]",
      "text/plain": [
       "<Figure size 640x480 with 1 Axes>"
      ]
     },
     "metadata": {},
     "output_type": "display_data"
    }
   ],
   "source": [
    "import matplotlib.pyplot as plt\n",
    "\n",
    "# Create the histogram with 5 bins\n",
    "plt.hist(chi2_list, bins=40)\n",
    "\n",
    "# Show the histogram\n",
    "plt.show()"
   ]
  },
  {
   "cell_type": "code",
   "execution_count": 226,
   "metadata": {},
   "outputs": [
    {
     "name": "stdout",
     "output_type": "stream",
     "text": [
      "1073.186305342551\n"
     ]
    }
   ],
   "source": [
    "import numpy as np\n",
    "\n",
    "# Divide the list into the 95th percentile\n",
    "p95 = np.percentile(chi2_list, 95)\n",
    "\n",
    "# Print the value at the 95th percentile\n",
    "print(p95)"
   ]
  }
 ],
 "metadata": {
  "kernelspec": {
   "display_name": "base",
   "language": "python",
   "name": "python3"
  },
  "language_info": {
   "codemirror_mode": {
    "name": "ipython",
    "version": 3
   },
   "file_extension": ".py",
   "mimetype": "text/x-python",
   "name": "python",
   "nbconvert_exporter": "python",
   "pygments_lexer": "ipython3",
   "version": "3.9.13"
  },
  "orig_nbformat": 4,
  "vscode": {
   "interpreter": {
    "hash": "e862235458dcc43ce60f6439dfba4578949053168f0a6b8272bc7c7b0264254d"
   }
  }
 },
 "nbformat": 4,
 "nbformat_minor": 2
}
