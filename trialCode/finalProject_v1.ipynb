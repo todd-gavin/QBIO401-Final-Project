{
 "cells": [
  {
   "cell_type": "markdown",
   "metadata": {},
   "source": [
    "- For my final project, I will be analyzing how the number of certain cancer-risk SNPs correlate with specific ethnic groups.\n",
    "- My specific research question is as followed: `Are the genotypic frequencies of cancer-risk SNPs different in certain ethnic groups compared to others?`"
   ]
  },
  {
   "cell_type": "markdown",
   "metadata": {},
   "source": [
    "\n",
    "My analysis is follows:\n",
    "- For each ethnic group, I will calculate the frequency of homozygous recessive (0|0),\n",
    "homozygous dominate (1|1), and heterozygous (0|1, 1|0) for the cancer-risk SNPs.\n",
    "- Once the frequency and percentages are calculated for each group, I will perform a\n",
    "statistical test to determine if the differences in SNPs frequency between ethnic groups\n",
    "statistically significant.\n",
    "- If there is time, based on the genotypic frequencies, I will calculate if certain ethnic\n",
    "groups are at a greater risk to developing certain cancers compared to other groups."
   ]
  },
  {
   "cell_type": "code",
   "execution_count": 1,
   "metadata": {},
   "outputs": [],
   "source": [
    "import csv"
   ]
  },
  {
   "cell_type": "markdown",
   "metadata": {},
   "source": [
    "# Get Human IDs to Gene Frequencies"
   ]
  },
  {
   "cell_type": "code",
   "execution_count": 2,
   "metadata": {},
   "outputs": [],
   "source": [
    "def getGeneData_and_HumanIDs(data_File):\n",
    "    # Open the CSV file with the open() function\n",
    "    # This returns a file object that you can use to read the file\n",
    "    with open(data_File) as csvfile:\n",
    "        # Use the csv.reader() function to read the file\n",
    "        # This returns an iterable object that you can loop over\n",
    "        data = csv.reader(csvfile)\n",
    "\n",
    "        rawRowDataAsList = []\n",
    "\n",
    "        # Loop over the rows in the file\n",
    "        for row in data:\n",
    "            rawRowDataAsList.append(row)\n",
    "\n",
    "        # HUMAN IDs\n",
    "        rawHumanIDs = rawRowDataAsList[19]\n",
    "        # print(\"rawHumanIDs\\n\", rawHumanIDs)\n",
    "\n",
    "        rawHumanIDsParsed = rawHumanIDs[0].split(\"\\t\")\n",
    "        # print(\"rawHumanIDsParsed\\n\",rawHumanIDsParsed)\n",
    "\n",
    "        humanIDs = rawHumanIDsParsed[9: len(rawHumanIDsParsed)-1]\n",
    "        # print(\"humanIDs\\n\", humanIDs)\n",
    "        # print(len(humanIDs))\n",
    "\n",
    "        # GENE DATA\n",
    "        rawGeneData = rawRowDataAsList[20: len(rawRowDataAsList)-1]\n",
    "        # print(\"rawGeneData\\n\", rawGeneData)\n",
    "        # print(len(rawGeneData))\n",
    "\n",
    "        geneData = [] \n",
    "        for rawGeneRow in rawGeneData:\n",
    "            rawGeneRowParsed = rawGeneRow[0].split(\"\\t\")\n",
    "            geneData.append(rawGeneRowParsed[9:len(rawGeneRowParsed)-1])\n",
    "        # print(\"geneData\\n\", geneData)\n",
    "        # print(len(geneData))\n",
    "        # print(len(geneData[0]))\n",
    "\n",
    "    return (humanIDs, geneData)\n",
    "\n"
   ]
  },
  {
   "cell_type": "code",
   "execution_count": 3,
   "metadata": {},
   "outputs": [],
   "source": [
    "humanIDs, geneData = getGeneData_and_HumanIDs('testData/rs4713266.csv')"
   ]
  },
  {
   "cell_type": "code",
   "execution_count": 23,
   "metadata": {},
   "outputs": [],
   "source": [
    "# print(humanIDs)\n",
    "# print(geneData)"
   ]
  },
  {
   "cell_type": "code",
   "execution_count": 24,
   "metadata": {},
   "outputs": [],
   "source": [
    "def getListOfGeneDataFrequencies(geneData):\n",
    "    geneDataFrequencies = []\n",
    "\n",
    "    print(len(geneData[0]))\n",
    "\n",
    "    for i in range(0, len(geneData[0])):\n",
    "        \n",
    "        homozygousReccessive = 0\n",
    "        heterozygous = 0\n",
    "        homozygousDominate = 0\n",
    "        geneSetFrequency = []\n",
    "        \n",
    "        for j in range(0, len(geneData)):\n",
    "\n",
    "            if geneData[j][i] == \"0|0\":\n",
    "                homozygousReccessive += 1\n",
    "            elif geneData[j][i] == \"1|0\" or geneData[j][i] == \"0|1\":\n",
    "                heterozygous += 1\n",
    "            elif geneData[j][i] == \"1|1\":\n",
    "                homozygousDominate += 1\n",
    "\n",
    "        geneSetFrequency.append(homozygousReccessive)\n",
    "        geneSetFrequency.append(heterozygous)\n",
    "        geneSetFrequency.append(homozygousDominate)\n",
    "\n",
    "        geneDataFrequencies.append(geneSetFrequency)\n",
    "\n",
    "    # print(geneDataFrequencies)\n",
    "    print(len(geneDataFrequencies))\n",
    "\n",
    "    return geneDataFrequencies\n"
   ]
  },
  {
   "cell_type": "code",
   "execution_count": 25,
   "metadata": {},
   "outputs": [],
   "source": [
    "def createDictOf_humanID_to_geneFrequency(humanIDs, geneDataFrequencies):\n",
    "    humanID_to_geneFrequency = {}\n",
    "\n",
    "    for i in range(0, len(humanIDs)):\n",
    "        humanID_to_geneFrequency[humanIDs[i]] = geneDataFrequencies[i]\n",
    "\n",
    "    # print(humanID_to_geneFrequency)\n",
    "\n",
    "    return humanID_to_geneFrequency"
   ]
  },
  {
   "cell_type": "code",
   "execution_count": 26,
   "metadata": {},
   "outputs": [],
   "source": [
    "def getDictof_humanID_to_PopulationCode(data_File):\n",
    "    # Open the CSV file with the open() function\n",
    "    # This returns a file object that you can use to read the file\n",
    "    with open(data_File) as csvfile:\n",
    "        # Use the csv.reader() function to read the file\n",
    "        # This returns an iterable object that you can loop over\n",
    "        data = csv.reader(csvfile)\n",
    "\n",
    "        rawRowDataAsList = []\n",
    "\n",
    "        # Loop over the rows in the file\n",
    "        for row in data:\n",
    "            rawRowDataAsList.append(row)\n",
    "\n",
    "        humanIDInfoHeader = rawRowDataAsList[0][0].split(\"\\t\")\n",
    "        print(\"humanIDInfoHeader\\n\", humanIDInfoHeader)\n",
    "        del rawRowDataAsList[0]\n",
    "\n",
    "        humanInfoParsed = []\n",
    "\n",
    "        for rawHumanInfo in rawRowDataAsList:\n",
    "            singleHumanInfoParsed = rawHumanInfo[0].split(\"\\t\")\n",
    "            humanInfoParsed.append(singleHumanInfoParsed)\n",
    "        # print(\"humanInfoParsed\\n\", humanInfoParsed)\n",
    "\n",
    "        humanID_to_PopulationCode = {}\n",
    "\n",
    "        for humanInfo in humanInfoParsed:\n",
    "            humanID = humanInfo[0]\n",
    "            populationCode = humanInfo[3]\n",
    "            # humanID_and_PopulationCode.append([humanID, populationCode])\n",
    "            humanID_to_PopulationCode[humanID] = populationCode\n",
    "\n",
    "        # print(\"humanID_and_PopulationCode\\n\", humanID_to_PopulationCode)\n",
    "\n",
    "    return humanID_to_PopulationCode\n",
    "\n"
   ]
  },
  {
   "cell_type": "code",
   "execution_count": 27,
   "metadata": {},
   "outputs": [
    {
     "name": "stdout",
     "output_type": "stream",
     "text": [
      "2547\n",
      "2547\n"
     ]
    }
   ],
   "source": [
    "geneDataFrequencies = getListOfGeneDataFrequencies(geneData)"
   ]
  },
  {
   "cell_type": "code",
   "execution_count": 28,
   "metadata": {},
   "outputs": [],
   "source": [
    "humanID_to_geneFrequency = createDictOf_humanID_to_geneFrequency(humanIDs, geneDataFrequencies)"
   ]
  },
  {
   "cell_type": "code",
   "execution_count": 29,
   "metadata": {},
   "outputs": [],
   "source": [
    "# print(humanID_to_geneFrequency)"
   ]
  },
  {
   "cell_type": "code",
   "execution_count": 30,
   "metadata": {},
   "outputs": [
    {
     "name": "stdout",
     "output_type": "stream",
     "text": [
      "humanIDInfoHeader\n",
      " ['Sample name', 'Sex', 'Biosample ID', 'Population code', 'Population name', 'Superpopulation code', 'Superpopulation name', 'Population elastic ID', 'Data collections']\n"
     ]
    }
   ],
   "source": [
    "humanID_to_PopulationCode = getDictof_humanID_to_PopulationCode('rawData/igsr_samples.tsv')"
   ]
  },
  {
   "cell_type": "code",
   "execution_count": 31,
   "metadata": {},
   "outputs": [],
   "source": [
    "# print(humanID_to_PopulationCode)"
   ]
  },
  {
   "cell_type": "markdown",
   "metadata": {},
   "source": [
    "# Merge Population Codes with Gene Frequencies at Corresponding Human IDs"
   ]
  },
  {
   "cell_type": "code",
   "execution_count": 32,
   "metadata": {},
   "outputs": [],
   "source": [
    "def get_populationCode_to_geneFrequency(humanID_to_geneFrequency, humanID_to_PopulationCode):\n",
    "\n",
    "    populationCode_to_geneFrequency = {}\n",
    "\n",
    "    for key in humanID_to_geneFrequency.keys():\n",
    "        # print(\"Ran outerloop...\", key)\n",
    "        if key in humanID_to_PopulationCode.keys():\n",
    "            # print(\"Ran innerloop...\", key)\n",
    "            # print(humanID_to_PopulationCode.get(key), humanID_to_geneFrequency.get(key))\n",
    "            populationCode_to_geneFrequency[key] = [humanID_to_PopulationCode.get(key), humanID_to_geneFrequency.get(key)]\n",
    "\n",
    "    # print(\"populationCode_to_geneFrequency\\n\", populationCode_to_geneFrequency)\n",
    "\n",
    "    return populationCode_to_geneFrequency"
   ]
  },
  {
   "cell_type": "code",
   "execution_count": 33,
   "metadata": {},
   "outputs": [],
   "source": [
    "populationCode_to_geneFrequency = get_populationCode_to_geneFrequency(humanID_to_geneFrequency, humanID_to_PopulationCode)"
   ]
  },
  {
   "cell_type": "code",
   "execution_count": 34,
   "metadata": {},
   "outputs": [],
   "source": [
    "def get_populationCode_totalGeneFrequencies(populationCode_to_geneFrequency):\n",
    "    populationCode_totalGeneFrequencies = {}\n",
    "\n",
    "    for value in populationCode_to_geneFrequency.values():\n",
    "        # print(value)\n",
    "        population_Code = value[0]\n",
    "        geneFrequencies = value[1]\n",
    "\n",
    "        if population_Code not in populationCode_totalGeneFrequencies:\n",
    "            populationCode_totalGeneFrequencies[population_Code] = geneFrequencies\n",
    "\n",
    "        elif population_Code in populationCode_totalGeneFrequencies:\n",
    "\n",
    "            addHomozygousRecessiveTotal = geneFrequencies[0]\n",
    "            addHeterozygousTotal = geneFrequencies[1]\n",
    "            addHomozygousDominateTotal = geneFrequencies[2]\n",
    "\n",
    "            currentHomozygousRecessiveTotal = populationCode_totalGeneFrequencies.get(population_Code)[0]\n",
    "            currentHeterozygousTotal = populationCode_totalGeneFrequencies.get(population_Code)[1]\n",
    "            currentHomozygousDominateTotal = populationCode_totalGeneFrequencies.get(population_Code)[2]\n",
    "\n",
    "            HomozygousRecessiveTotal = addHomozygousRecessiveTotal + currentHomozygousRecessiveTotal\n",
    "            HeterozygousTotal = addHeterozygousTotal + currentHeterozygousTotal\n",
    "            HomozygousDominateTotal = addHomozygousDominateTotal + currentHomozygousDominateTotal\n",
    "\n",
    "            populationCode_totalGeneFrequencies[population_Code] = [HomozygousRecessiveTotal, HeterozygousTotal, HomozygousDominateTotal]\n",
    "\n",
    "    print(\"populationCode_totalGeneFrequencies\\n\", populationCode_totalGeneFrequencies)\n",
    "\n",
    "    return populationCode_totalGeneFrequencies\n"
   ]
  },
  {
   "cell_type": "code",
   "execution_count": 35,
   "metadata": {},
   "outputs": [
    {
     "name": "stdout",
     "output_type": "stream",
     "text": [
      "populationCode_totalGeneFrequencies\n",
      " {'GBR': [727, 53, 20], 'FIN': [773, 44, 23], 'CHS': [741, 34, 65], 'PUR': [747, 62, 23], 'CDX': [710, 47, 43], 'CLM': [682, 52, 26], 'IBS': [775, 56, 25], 'PEL': [602, 38, 40], 'PJL': [688, 48, 32], 'KHV': [699, 34, 59], 'ACB': [717, 56, 3], 'GWD': [848, 49, 7], 'ESN': [755, 42, 3], 'BEB': [611, 31, 46], 'MSL': [687, 30, 3], 'STU': [724, 46, 46], 'ITU': [722, 55, 39], 'CEU': [713, 62, 17], 'YRI': [793, 62, 1], 'CHB': [748, 30, 70], 'JPT': [740, 36, 64], 'LWK': [790, 32, 2], 'ASW': [452, 32, 4], 'MXL': [461, 27, 24], 'TSI': [796, 55, 37], 'GIH': [752, 53, 35]}\n"
     ]
    }
   ],
   "source": [
    "populationCode_totalGenoFrequencies = get_populationCode_totalGeneFrequencies(populationCode_to_geneFrequency)"
   ]
  },
  {
   "cell_type": "code",
   "execution_count": 36,
   "metadata": {},
   "outputs": [],
   "source": [
    "def get_populationCode_to_totalGene(populationCode_totalGenoFrequencies):\n",
    "    populationCode_to_totalGene = {}\n",
    "\n",
    "    for key, value in populationCode_totalGenoFrequencies.items():\n",
    "        populationCode_to_totalGene[key] = value[0] + value[1] + value[2]\n",
    "\n",
    "    print(\"populationCode_to_totalGeno\\n\", populationCode_to_totalGene)\n",
    "\n",
    "    return populationCode_to_totalGene"
   ]
  },
  {
   "cell_type": "code",
   "execution_count": 37,
   "metadata": {},
   "outputs": [
    {
     "name": "stdout",
     "output_type": "stream",
     "text": [
      "populationCode_to_totalGeno\n",
      " {'GBR': 800, 'FIN': 840, 'CHS': 840, 'PUR': 832, 'CDX': 800, 'CLM': 760, 'IBS': 856, 'PEL': 680, 'PJL': 768, 'KHV': 792, 'ACB': 776, 'GWD': 904, 'ESN': 800, 'BEB': 688, 'MSL': 720, 'STU': 816, 'ITU': 816, 'CEU': 792, 'YRI': 856, 'CHB': 848, 'JPT': 840, 'LWK': 824, 'ASW': 488, 'MXL': 512, 'TSI': 888, 'GIH': 840}\n"
     ]
    }
   ],
   "source": [
    "populationCode_to_totalGeno = get_populationCode_to_totalGene(populationCode_totalGenoFrequencies)"
   ]
  },
  {
   "cell_type": "code",
   "execution_count": 38,
   "metadata": {},
   "outputs": [],
   "source": [
    "def get_populationCode_to_genePercentages(populationCode_totalGenoFrequencies, populationCode_to_totalGeno):\n",
    "    populationCode_to_genePercentages = {}\n",
    "\n",
    "    for key, value in populationCode_totalGenoFrequencies.items():\n",
    "        homozygousRecessive = value[0]/populationCode_to_totalGeno.get(key)\n",
    "        heterozygous = value[1]/populationCode_to_totalGeno.get(key)\n",
    "        homozygousDominate = value[2]/populationCode_to_totalGeno.get(key)\n",
    "\n",
    "        populationCode_to_genePercentages[key] = [homozygousRecessive, heterozygous, homozygousDominate]\n",
    "\n",
    "    print(\"populationCode_to_genePercentages\\n\", populationCode_to_genePercentages)\n",
    "\n",
    "    return populationCode_to_genePercentages"
   ]
  },
  {
   "cell_type": "code",
   "execution_count": 39,
   "metadata": {},
   "outputs": [
    {
     "name": "stdout",
     "output_type": "stream",
     "text": [
      "populationCode_to_genePercentages\n",
      " {'GBR': [0.90875, 0.06625, 0.025], 'FIN': [0.9202380952380952, 0.05238095238095238, 0.02738095238095238], 'CHS': [0.8821428571428571, 0.04047619047619048, 0.07738095238095238], 'PUR': [0.8978365384615384, 0.07451923076923077, 0.027644230769230768], 'CDX': [0.8875, 0.05875, 0.05375], 'CLM': [0.8973684210526316, 0.06842105263157895, 0.034210526315789476], 'IBS': [0.905373831775701, 0.06542056074766354, 0.029205607476635514], 'PEL': [0.8852941176470588, 0.05588235294117647, 0.058823529411764705], 'PJL': [0.8958333333333334, 0.0625, 0.041666666666666664], 'KHV': [0.8825757575757576, 0.04292929292929293, 0.07449494949494949], 'ACB': [0.9239690721649485, 0.07216494845360824, 0.003865979381443299], 'GWD': [0.9380530973451328, 0.05420353982300885, 0.007743362831858407], 'ESN': [0.94375, 0.0525, 0.00375], 'BEB': [0.8880813953488372, 0.04505813953488372, 0.06686046511627906], 'MSL': [0.9541666666666667, 0.041666666666666664, 0.004166666666666667], 'STU': [0.8872549019607843, 0.056372549019607844, 0.056372549019607844], 'ITU': [0.8848039215686274, 0.06740196078431372, 0.04779411764705882], 'CEU': [0.9002525252525253, 0.07828282828282829, 0.021464646464646464], 'YRI': [0.9264018691588785, 0.07242990654205607, 0.0011682242990654205], 'CHB': [0.8820754716981132, 0.03537735849056604, 0.08254716981132075], 'JPT': [0.8809523809523809, 0.04285714285714286, 0.0761904761904762], 'LWK': [0.9587378640776699, 0.038834951456310676, 0.0024271844660194173], 'ASW': [0.9262295081967213, 0.06557377049180328, 0.00819672131147541], 'MXL': [0.900390625, 0.052734375, 0.046875], 'TSI': [0.8963963963963963, 0.061936936936936936, 0.041666666666666664], 'GIH': [0.8952380952380953, 0.0630952380952381, 0.041666666666666664]}\n"
     ]
    }
   ],
   "source": [
    "populationCode_to_genePercentages = get_populationCode_to_genePercentages(populationCode_totalGenoFrequencies, populationCode_to_totalGeno)"
   ]
  },
  {
   "cell_type": "code",
   "execution_count": 40,
   "metadata": {},
   "outputs": [],
   "source": [
    "def print_populationCode_to_genePercentages(populationCode_to_genePercentages):\n",
    "    print(\"PopCode --  homozygousRecessive, heterozygous, homozygousDominate\")\n",
    "\n",
    "    for key, value in populationCode_to_genePercentages.items():\n",
    "        print(key, \" ----- \", format(value[0], '.3f'), format(value[1], '.3f'), format(value[2], '.3f'))"
   ]
  },
  {
   "cell_type": "code",
   "execution_count": 41,
   "metadata": {},
   "outputs": [
    {
     "name": "stdout",
     "output_type": "stream",
     "text": [
      "PopCode --  homozygousRecessive, heterozygous, homozygousDominate\n",
      "GBR  -----  0.909 0.066 0.025\n",
      "FIN  -----  0.920 0.052 0.027\n",
      "CHS  -----  0.882 0.040 0.077\n",
      "PUR  -----  0.898 0.075 0.028\n",
      "CDX  -----  0.887 0.059 0.054\n",
      "CLM  -----  0.897 0.068 0.034\n",
      "IBS  -----  0.905 0.065 0.029\n",
      "PEL  -----  0.885 0.056 0.059\n",
      "PJL  -----  0.896 0.062 0.042\n",
      "KHV  -----  0.883 0.043 0.074\n",
      "ACB  -----  0.924 0.072 0.004\n",
      "GWD  -----  0.938 0.054 0.008\n",
      "ESN  -----  0.944 0.052 0.004\n",
      "BEB  -----  0.888 0.045 0.067\n",
      "MSL  -----  0.954 0.042 0.004\n",
      "STU  -----  0.887 0.056 0.056\n",
      "ITU  -----  0.885 0.067 0.048\n",
      "CEU  -----  0.900 0.078 0.021\n",
      "YRI  -----  0.926 0.072 0.001\n",
      "CHB  -----  0.882 0.035 0.083\n",
      "JPT  -----  0.881 0.043 0.076\n",
      "LWK  -----  0.959 0.039 0.002\n",
      "ASW  -----  0.926 0.066 0.008\n",
      "MXL  -----  0.900 0.053 0.047\n",
      "TSI  -----  0.896 0.062 0.042\n",
      "GIH  -----  0.895 0.063 0.042\n"
     ]
    }
   ],
   "source": [
    "print_populationCode_to_genePercentages(populationCode_to_genePercentages)"
   ]
  },
  {
   "cell_type": "markdown",
   "metadata": {},
   "source": [
    "# Conduct statistical tests on population code to GeneFrequencies \n",
    "\n",
    "- test with individuals\n",
    "- you want counts, not frequencies\n",
    "- test with continental groups \n",
    "- use chi square test "
   ]
  }
 ],
 "metadata": {
  "kernelspec": {
   "display_name": "Python 3.10.6 64-bit",
   "language": "python",
   "name": "python3"
  },
  "language_info": {
   "codemirror_mode": {
    "name": "ipython",
    "version": 3
   },
   "file_extension": ".py",
   "mimetype": "text/x-python",
   "name": "python",
   "nbconvert_exporter": "python",
   "pygments_lexer": "ipython3",
   "version": "3.10.6 (v3.10.6:9c7b4bd164, Aug  1 2022, 17:13:48) [Clang 13.0.0 (clang-1300.0.29.30)]"
  },
  "orig_nbformat": 4,
  "vscode": {
   "interpreter": {
    "hash": "aee8b7b246df8f9039afb4144a1f6fd8d2ca17a180786b69acc140d282b71a49"
   }
  }
 },
 "nbformat": 4,
 "nbformat_minor": 2
}
