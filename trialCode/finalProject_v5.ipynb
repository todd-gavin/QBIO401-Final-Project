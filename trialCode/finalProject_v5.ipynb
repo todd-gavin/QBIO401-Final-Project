{
 "cells": [
  {
   "cell_type": "code",
   "execution_count": 93,
   "metadata": {},
   "outputs": [],
   "source": [
    "import final_project_functions"
   ]
  },
  {
   "attachments": {},
   "cell_type": "markdown",
   "metadata": {},
   "source": [
    "# Mapping Human IDs to Population Codes"
   ]
  },
  {
   "cell_type": "code",
   "execution_count": 94,
   "metadata": {},
   "outputs": [],
   "source": [
    "humanID_to_PopulationCode = get_humanID_to_PopulationCode('rawData/igsr_samples.tsv')\n",
    "# print(humanID_to_PopulationCode)"
   ]
  },
  {
   "attachments": {},
   "cell_type": "markdown",
   "metadata": {},
   "source": [
    "# Control: Gene data parsing or organization"
   ]
  },
  {
   "cell_type": "code",
   "execution_count": 95,
   "metadata": {},
   "outputs": [],
   "source": [
    "humanIDs_control, SNPsDataList_control = get_humanIDsList_SNPsList_control('testData/rs4713266.csv')\n",
    "# print(humanIDs_control)\n",
    "# print(SNPsDataList_control)"
   ]
  },
  {
   "attachments": {},
   "cell_type": "markdown",
   "metadata": {},
   "source": [
    "# Control: Merge genotypes with population codes by corresponding human IDs"
   ]
  },
  {
   "cell_type": "code",
   "execution_count": 96,
   "metadata": {},
   "outputs": [
    {
     "ename": "NameError",
     "evalue": "name 'create_df_of_genotypes_populationCodes' is not defined",
     "output_type": "error",
     "traceback": [
      "\u001b[0;31m---------------------------------------------------------------------------\u001b[0m",
      "\u001b[0;31mNameError\u001b[0m                                 Traceback (most recent call last)",
      "\u001b[0;32m/var/folders/fn/pdhscw6s1wz7r1wk9ssprtz80000gn/T/ipykernel_39789/1371418639.py\u001b[0m in \u001b[0;36m<module>\u001b[0;34m\u001b[0m\n\u001b[0;32m----> 1\u001b[0;31m \u001b[0mdf_populationCodes_genotypes\u001b[0m \u001b[0;34m=\u001b[0m \u001b[0mcreate_df_of_genotypes_populationCodes\u001b[0m\u001b[0;34m(\u001b[0m\u001b[0mhumanIDs_control\u001b[0m\u001b[0;34m,\u001b[0m \u001b[0mSNPsDataList_control\u001b[0m\u001b[0;34m,\u001b[0m \u001b[0mhumanID_to_PopulationCode\u001b[0m\u001b[0;34m)\u001b[0m\u001b[0;34m\u001b[0m\u001b[0;34m\u001b[0m\u001b[0m\n\u001b[0m",
      "\u001b[0;31mNameError\u001b[0m: name 'create_df_of_genotypes_populationCodes' is not defined"
     ]
    }
   ],
   "source": [
    "df_populationCodes_genotypes = create_df_of_genotypes_populationCodes(humanIDs_control, SNPsDataList_control, humanID_to_PopulationCode)"
   ]
  }
 ],
 "metadata": {
  "kernelspec": {
   "display_name": "base",
   "language": "python",
   "name": "python3"
  },
  "language_info": {
   "codemirror_mode": {
    "name": "ipython",
    "version": 3
   },
   "file_extension": ".py",
   "mimetype": "text/x-python",
   "name": "python",
   "nbconvert_exporter": "python",
   "pygments_lexer": "ipython3",
   "version": "3.9.13"
  },
  "orig_nbformat": 4,
  "vscode": {
   "interpreter": {
    "hash": "e862235458dcc43ce60f6439dfba4578949053168f0a6b8272bc7c7b0264254d"
   }
  }
 },
 "nbformat": 4,
 "nbformat_minor": 2
}
